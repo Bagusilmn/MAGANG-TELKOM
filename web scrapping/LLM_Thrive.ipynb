{
  "nbformat": 4,
  "nbformat_minor": 0,
  "metadata": {
    "colab": {
      "provenance": [],
      "collapsed_sections": [
        "EicTJkAw6sdq",
        "ooFnjVpi7WSK",
        "6c5UBzAz9il7",
        "z5R2bQIpDs55",
        "vVxJ0j2f-dVc",
        "xm0YOTEKiOwH",
        "5fnKOAzykdqf"
      ]
    },
    "kernelspec": {
      "name": "python3",
      "display_name": "Python 3"
    },
    "language_info": {
      "name": "python"
    }
  },
  "cells": [
    {
      "cell_type": "markdown",
      "source": [
        "# Initializing the LLM\n",
        "\n",
        "In this lesson, you will:\n",
        "\n",
        "- Install the Langchain Python package\n",
        "- Initialize an LLM\n",
        "- Get a response from the LLM using a Prompt"
      ],
      "metadata": {
        "id": "PLku8Nsu6cwM"
      }
    },
    {
      "cell_type": "markdown",
      "source": [
        "## Choosing your LLM\n",
        "\n",
        "Langchain supports multiple LLM providers (OpenAI, Cohere, Ollama, and more). The quality and cost vary. LLMs are also trained for different purposes, so it is worth experimenting with models and prompts. Depending on your use case, different LLMs may return better results.\n",
        "\n",
        "This course includes instructions for using OpenAI, but the same principles apply to all LLMs.\n"
      ],
      "metadata": {
        "id": "W3Ri-72G6f__"
      }
    },
    {
      "cell_type": "markdown",
      "source": [
        "### Using OpenAI\n",
        "\n",
        "If you wish to use OpenAI and follow this course’s practical activities, you must create an account and set up billing.\n"
      ],
      "metadata": {
        "id": "7CEbb6VG6k-f"
      }
    },
    {
      "cell_type": "markdown",
      "source": [
        "## Hands On 0 : Setup\n",
        "\n",
        "### Installing Langchain\n",
        "\n",
        "To use Langchain, you must install the langchain package and its dependencies using pip:\n"
      ],
      "metadata": {
        "id": "EicTJkAw6sdq"
      }
    },
    {
      "cell_type": "code",
      "execution_count": null,
      "metadata": {
        "colab": {
          "base_uri": "https://localhost:8080/"
        },
        "id": "IEOBD53x6Pzw",
        "outputId": "db660e9d-78ea-4d09-86b7-d81bd50d2d00"
      },
      "outputs": [
        {
          "output_type": "stream",
          "name": "stdout",
          "text": [
            "Requirement already satisfied: langchain in /usr/local/lib/python3.10/dist-packages (0.2.5)\n",
            "Requirement already satisfied: langchain_experimental in /usr/local/lib/python3.10/dist-packages (0.0.61)\n",
            "Requirement already satisfied: PyYAML>=5.3 in /usr/local/lib/python3.10/dist-packages (from langchain) (6.0.1)\n",
            "Requirement already satisfied: SQLAlchemy<3,>=1.4 in /usr/local/lib/python3.10/dist-packages (from langchain) (2.0.30)\n",
            "Requirement already satisfied: aiohttp<4.0.0,>=3.8.3 in /usr/local/lib/python3.10/dist-packages (from langchain) (3.9.5)\n",
            "Requirement already satisfied: async-timeout<5.0.0,>=4.0.0 in /usr/local/lib/python3.10/dist-packages (from langchain) (4.0.3)\n",
            "Requirement already satisfied: langchain-core<0.3.0,>=0.2.7 in /usr/local/lib/python3.10/dist-packages (from langchain) (0.2.9)\n",
            "Requirement already satisfied: langchain-text-splitters<0.3.0,>=0.2.0 in /usr/local/lib/python3.10/dist-packages (from langchain) (0.2.1)\n",
            "Requirement already satisfied: langsmith<0.2.0,>=0.1.17 in /usr/local/lib/python3.10/dist-packages (from langchain) (0.1.81)\n",
            "Requirement already satisfied: numpy<2,>=1 in /usr/local/lib/python3.10/dist-packages (from langchain) (1.25.2)\n",
            "Requirement already satisfied: pydantic<3,>=1 in /usr/local/lib/python3.10/dist-packages (from langchain) (2.7.4)\n",
            "Requirement already satisfied: requests<3,>=2 in /usr/local/lib/python3.10/dist-packages (from langchain) (2.31.0)\n",
            "Requirement already satisfied: tenacity<9.0.0,>=8.1.0 in /usr/local/lib/python3.10/dist-packages (from langchain) (8.4.1)\n",
            "Requirement already satisfied: langchain-community<0.3.0,>=0.2.5 in /usr/local/lib/python3.10/dist-packages (from langchain_experimental) (0.2.5)\n",
            "Requirement already satisfied: aiosignal>=1.1.2 in /usr/local/lib/python3.10/dist-packages (from aiohttp<4.0.0,>=3.8.3->langchain) (1.3.1)\n",
            "Requirement already satisfied: attrs>=17.3.0 in /usr/local/lib/python3.10/dist-packages (from aiohttp<4.0.0,>=3.8.3->langchain) (23.2.0)\n",
            "Requirement already satisfied: frozenlist>=1.1.1 in /usr/local/lib/python3.10/dist-packages (from aiohttp<4.0.0,>=3.8.3->langchain) (1.4.1)\n",
            "Requirement already satisfied: multidict<7.0,>=4.5 in /usr/local/lib/python3.10/dist-packages (from aiohttp<4.0.0,>=3.8.3->langchain) (6.0.5)\n",
            "Requirement already satisfied: yarl<2.0,>=1.0 in /usr/local/lib/python3.10/dist-packages (from aiohttp<4.0.0,>=3.8.3->langchain) (1.9.4)\n",
            "Requirement already satisfied: dataclasses-json<0.7,>=0.5.7 in /usr/local/lib/python3.10/dist-packages (from langchain-community<0.3.0,>=0.2.5->langchain_experimental) (0.6.7)\n",
            "Requirement already satisfied: jsonpatch<2.0,>=1.33 in /usr/local/lib/python3.10/dist-packages (from langchain-core<0.3.0,>=0.2.7->langchain) (1.33)\n",
            "Requirement already satisfied: packaging<25,>=23.2 in /usr/local/lib/python3.10/dist-packages (from langchain-core<0.3.0,>=0.2.7->langchain) (24.1)\n",
            "Requirement already satisfied: orjson<4.0.0,>=3.9.14 in /usr/local/lib/python3.10/dist-packages (from langsmith<0.2.0,>=0.1.17->langchain) (3.10.5)\n",
            "Requirement already satisfied: annotated-types>=0.4.0 in /usr/local/lib/python3.10/dist-packages (from pydantic<3,>=1->langchain) (0.7.0)\n",
            "Requirement already satisfied: pydantic-core==2.18.4 in /usr/local/lib/python3.10/dist-packages (from pydantic<3,>=1->langchain) (2.18.4)\n",
            "Requirement already satisfied: typing-extensions>=4.6.1 in /usr/local/lib/python3.10/dist-packages (from pydantic<3,>=1->langchain) (4.12.2)\n",
            "Requirement already satisfied: charset-normalizer<4,>=2 in /usr/local/lib/python3.10/dist-packages (from requests<3,>=2->langchain) (3.3.2)\n",
            "Requirement already satisfied: idna<4,>=2.5 in /usr/local/lib/python3.10/dist-packages (from requests<3,>=2->langchain) (3.7)\n",
            "Requirement already satisfied: urllib3<3,>=1.21.1 in /usr/local/lib/python3.10/dist-packages (from requests<3,>=2->langchain) (2.0.7)\n",
            "Requirement already satisfied: certifi>=2017.4.17 in /usr/local/lib/python3.10/dist-packages (from requests<3,>=2->langchain) (2024.6.2)\n",
            "Requirement already satisfied: greenlet!=0.4.17 in /usr/local/lib/python3.10/dist-packages (from SQLAlchemy<3,>=1.4->langchain) (3.0.3)\n",
            "Requirement already satisfied: marshmallow<4.0.0,>=3.18.0 in /usr/local/lib/python3.10/dist-packages (from dataclasses-json<0.7,>=0.5.7->langchain-community<0.3.0,>=0.2.5->langchain_experimental) (3.21.3)\n",
            "Requirement already satisfied: typing-inspect<1,>=0.4.0 in /usr/local/lib/python3.10/dist-packages (from dataclasses-json<0.7,>=0.5.7->langchain-community<0.3.0,>=0.2.5->langchain_experimental) (0.9.0)\n",
            "Requirement already satisfied: jsonpointer>=1.9 in /usr/local/lib/python3.10/dist-packages (from jsonpatch<2.0,>=1.33->langchain-core<0.3.0,>=0.2.7->langchain) (3.0.0)\n",
            "Requirement already satisfied: mypy-extensions>=0.3.0 in /usr/local/lib/python3.10/dist-packages (from typing-inspect<1,>=0.4.0->dataclasses-json<0.7,>=0.5.7->langchain-community<0.3.0,>=0.2.5->langchain_experimental) (1.0.0)\n"
          ]
        }
      ],
      "source": [
        "# Install Langchain\n",
        "!pip install langchain langchain_experimental"
      ]
    },
    {
      "cell_type": "code",
      "source": [
        "OPENAI_API_KEY=\"sk-proj-FhJVu4GemUimrcfyGiEBT3BlbkFJXX9dUnbAbVkSa9kEeGRM\""
      ],
      "metadata": {
        "id": "GDKqZtD7z536"
      },
      "execution_count": null,
      "outputs": []
    },
    {
      "cell_type": "markdown",
      "source": [
        "### Virtual Environment\n",
        "\n",
        "During the course, you will also be using components from the neo4j, langchain-community, and langchainhub packages:\n"
      ],
      "metadata": {
        "id": "EiZlUsMz6--e"
      }
    },
    {
      "cell_type": "code",
      "source": [
        "# Install additional packages\n",
        "!pip install langchain-community langchainhub neo4j langchain-chroma pyvis\n"
      ],
      "metadata": {
        "colab": {
          "base_uri": "https://localhost:8080/"
        },
        "id": "-QeGzPjr68fB",
        "outputId": "a11bd321-3f42-4811-f773-033d0c20683b"
      },
      "execution_count": null,
      "outputs": [
        {
          "output_type": "stream",
          "name": "stdout",
          "text": [
            "Requirement already satisfied: langchain-community in /usr/local/lib/python3.10/dist-packages (0.2.5)\n",
            "Requirement already satisfied: langchainhub in /usr/local/lib/python3.10/dist-packages (0.1.20)\n",
            "Requirement already satisfied: neo4j in /usr/local/lib/python3.10/dist-packages (5.21.0)\n",
            "Requirement already satisfied: langchain-chroma in /usr/local/lib/python3.10/dist-packages (0.1.1)\n",
            "Requirement already satisfied: pyvis in /usr/local/lib/python3.10/dist-packages (0.3.2)\n",
            "Requirement already satisfied: PyYAML>=5.3 in /usr/local/lib/python3.10/dist-packages (from langchain-community) (6.0.1)\n",
            "Requirement already satisfied: SQLAlchemy<3,>=1.4 in /usr/local/lib/python3.10/dist-packages (from langchain-community) (2.0.30)\n",
            "Requirement already satisfied: aiohttp<4.0.0,>=3.8.3 in /usr/local/lib/python3.10/dist-packages (from langchain-community) (3.9.5)\n",
            "Requirement already satisfied: dataclasses-json<0.7,>=0.5.7 in /usr/local/lib/python3.10/dist-packages (from langchain-community) (0.6.7)\n",
            "Requirement already satisfied: langchain<0.3.0,>=0.2.5 in /usr/local/lib/python3.10/dist-packages (from langchain-community) (0.2.5)\n",
            "Requirement already satisfied: langchain-core<0.3.0,>=0.2.7 in /usr/local/lib/python3.10/dist-packages (from langchain-community) (0.2.9)\n",
            "Requirement already satisfied: langsmith<0.2.0,>=0.1.0 in /usr/local/lib/python3.10/dist-packages (from langchain-community) (0.1.81)\n",
            "Requirement already satisfied: numpy<2,>=1 in /usr/local/lib/python3.10/dist-packages (from langchain-community) (1.25.2)\n",
            "Requirement already satisfied: requests<3,>=2 in /usr/local/lib/python3.10/dist-packages (from langchain-community) (2.31.0)\n",
            "Requirement already satisfied: tenacity<9.0.0,>=8.1.0 in /usr/local/lib/python3.10/dist-packages (from langchain-community) (8.4.1)\n",
            "Requirement already satisfied: packaging<25,>=23.2 in /usr/local/lib/python3.10/dist-packages (from langchainhub) (24.1)\n",
            "Requirement already satisfied: types-requests<3.0.0.0,>=2.31.0.2 in /usr/local/lib/python3.10/dist-packages (from langchainhub) (2.32.0.20240602)\n",
            "Requirement already satisfied: pytz in /usr/local/lib/python3.10/dist-packages (from neo4j) (2023.4)\n",
            "Requirement already satisfied: chromadb<0.6.0,>=0.4.0 in /usr/local/lib/python3.10/dist-packages (from langchain-chroma) (0.5.3)\n",
            "Requirement already satisfied: fastapi<1,>=0.95.2 in /usr/local/lib/python3.10/dist-packages (from langchain-chroma) (0.111.0)\n",
            "Requirement already satisfied: ipython>=5.3.0 in /usr/local/lib/python3.10/dist-packages (from pyvis) (7.34.0)\n",
            "Requirement already satisfied: jinja2>=2.9.6 in /usr/local/lib/python3.10/dist-packages (from pyvis) (3.1.4)\n",
            "Requirement already satisfied: jsonpickle>=1.4.1 in /usr/local/lib/python3.10/dist-packages (from pyvis) (3.2.1)\n",
            "Requirement already satisfied: networkx>=1.11 in /usr/local/lib/python3.10/dist-packages (from pyvis) (3.3)\n",
            "Requirement already satisfied: aiosignal>=1.1.2 in /usr/local/lib/python3.10/dist-packages (from aiohttp<4.0.0,>=3.8.3->langchain-community) (1.3.1)\n",
            "Requirement already satisfied: attrs>=17.3.0 in /usr/local/lib/python3.10/dist-packages (from aiohttp<4.0.0,>=3.8.3->langchain-community) (23.2.0)\n",
            "Requirement already satisfied: frozenlist>=1.1.1 in /usr/local/lib/python3.10/dist-packages (from aiohttp<4.0.0,>=3.8.3->langchain-community) (1.4.1)\n",
            "Requirement already satisfied: multidict<7.0,>=4.5 in /usr/local/lib/python3.10/dist-packages (from aiohttp<4.0.0,>=3.8.3->langchain-community) (6.0.5)\n",
            "Requirement already satisfied: yarl<2.0,>=1.0 in /usr/local/lib/python3.10/dist-packages (from aiohttp<4.0.0,>=3.8.3->langchain-community) (1.9.4)\n",
            "Requirement already satisfied: async-timeout<5.0,>=4.0 in /usr/local/lib/python3.10/dist-packages (from aiohttp<4.0.0,>=3.8.3->langchain-community) (4.0.3)\n",
            "Requirement already satisfied: build>=1.0.3 in /usr/local/lib/python3.10/dist-packages (from chromadb<0.6.0,>=0.4.0->langchain-chroma) (1.2.1)\n",
            "Requirement already satisfied: pydantic>=1.9 in /usr/local/lib/python3.10/dist-packages (from chromadb<0.6.0,>=0.4.0->langchain-chroma) (2.7.4)\n",
            "Requirement already satisfied: chroma-hnswlib==0.7.3 in /usr/local/lib/python3.10/dist-packages (from chromadb<0.6.0,>=0.4.0->langchain-chroma) (0.7.3)\n",
            "Requirement already satisfied: uvicorn[standard]>=0.18.3 in /usr/local/lib/python3.10/dist-packages (from chromadb<0.6.0,>=0.4.0->langchain-chroma) (0.30.1)\n",
            "Requirement already satisfied: posthog>=2.4.0 in /usr/local/lib/python3.10/dist-packages (from chromadb<0.6.0,>=0.4.0->langchain-chroma) (3.5.0)\n",
            "Requirement already satisfied: typing-extensions>=4.5.0 in /usr/local/lib/python3.10/dist-packages (from chromadb<0.6.0,>=0.4.0->langchain-chroma) (4.12.2)\n",
            "Requirement already satisfied: onnxruntime>=1.14.1 in /usr/local/lib/python3.10/dist-packages (from chromadb<0.6.0,>=0.4.0->langchain-chroma) (1.18.0)\n",
            "Requirement already satisfied: opentelemetry-api>=1.2.0 in /usr/local/lib/python3.10/dist-packages (from chromadb<0.6.0,>=0.4.0->langchain-chroma) (1.25.0)\n",
            "Requirement already satisfied: opentelemetry-exporter-otlp-proto-grpc>=1.2.0 in /usr/local/lib/python3.10/dist-packages (from chromadb<0.6.0,>=0.4.0->langchain-chroma) (1.25.0)\n",
            "Requirement already satisfied: opentelemetry-instrumentation-fastapi>=0.41b0 in /usr/local/lib/python3.10/dist-packages (from chromadb<0.6.0,>=0.4.0->langchain-chroma) (0.46b0)\n",
            "Requirement already satisfied: opentelemetry-sdk>=1.2.0 in /usr/local/lib/python3.10/dist-packages (from chromadb<0.6.0,>=0.4.0->langchain-chroma) (1.25.0)\n",
            "Requirement already satisfied: tokenizers>=0.13.2 in /usr/local/lib/python3.10/dist-packages (from chromadb<0.6.0,>=0.4.0->langchain-chroma) (0.19.1)\n",
            "Requirement already satisfied: pypika>=0.48.9 in /usr/local/lib/python3.10/dist-packages (from chromadb<0.6.0,>=0.4.0->langchain-chroma) (0.48.9)\n",
            "Requirement already satisfied: tqdm>=4.65.0 in /usr/local/lib/python3.10/dist-packages (from chromadb<0.6.0,>=0.4.0->langchain-chroma) (4.66.4)\n",
            "Requirement already satisfied: overrides>=7.3.1 in /usr/local/lib/python3.10/dist-packages (from chromadb<0.6.0,>=0.4.0->langchain-chroma) (7.7.0)\n",
            "Requirement already satisfied: importlib-resources in /usr/local/lib/python3.10/dist-packages (from chromadb<0.6.0,>=0.4.0->langchain-chroma) (6.4.0)\n",
            "Requirement already satisfied: grpcio>=1.58.0 in /usr/local/lib/python3.10/dist-packages (from chromadb<0.6.0,>=0.4.0->langchain-chroma) (1.64.1)\n",
            "Requirement already satisfied: bcrypt>=4.0.1 in /usr/local/lib/python3.10/dist-packages (from chromadb<0.6.0,>=0.4.0->langchain-chroma) (4.1.3)\n",
            "Requirement already satisfied: typer>=0.9.0 in /usr/local/lib/python3.10/dist-packages (from chromadb<0.6.0,>=0.4.0->langchain-chroma) (0.12.3)\n",
            "Requirement already satisfied: kubernetes>=28.1.0 in /usr/local/lib/python3.10/dist-packages (from chromadb<0.6.0,>=0.4.0->langchain-chroma) (30.1.0)\n",
            "Requirement already satisfied: mmh3>=4.0.1 in /usr/local/lib/python3.10/dist-packages (from chromadb<0.6.0,>=0.4.0->langchain-chroma) (4.1.0)\n",
            "Requirement already satisfied: orjson>=3.9.12 in /usr/local/lib/python3.10/dist-packages (from chromadb<0.6.0,>=0.4.0->langchain-chroma) (3.10.5)\n",
            "Requirement already satisfied: httpx>=0.27.0 in /usr/local/lib/python3.10/dist-packages (from chromadb<0.6.0,>=0.4.0->langchain-chroma) (0.27.0)\n",
            "Requirement already satisfied: marshmallow<4.0.0,>=3.18.0 in /usr/local/lib/python3.10/dist-packages (from dataclasses-json<0.7,>=0.5.7->langchain-community) (3.21.3)\n",
            "Requirement already satisfied: typing-inspect<1,>=0.4.0 in /usr/local/lib/python3.10/dist-packages (from dataclasses-json<0.7,>=0.5.7->langchain-community) (0.9.0)\n",
            "Requirement already satisfied: starlette<0.38.0,>=0.37.2 in /usr/local/lib/python3.10/dist-packages (from fastapi<1,>=0.95.2->langchain-chroma) (0.37.2)\n",
            "Requirement already satisfied: fastapi-cli>=0.0.2 in /usr/local/lib/python3.10/dist-packages (from fastapi<1,>=0.95.2->langchain-chroma) (0.0.4)\n",
            "Requirement already satisfied: python-multipart>=0.0.7 in /usr/local/lib/python3.10/dist-packages (from fastapi<1,>=0.95.2->langchain-chroma) (0.0.9)\n",
            "Requirement already satisfied: ujson!=4.0.2,!=4.1.0,!=4.2.0,!=4.3.0,!=5.0.0,!=5.1.0,>=4.0.1 in /usr/local/lib/python3.10/dist-packages (from fastapi<1,>=0.95.2->langchain-chroma) (5.10.0)\n",
            "Requirement already satisfied: email_validator>=2.0.0 in /usr/local/lib/python3.10/dist-packages (from fastapi<1,>=0.95.2->langchain-chroma) (2.2.0)\n",
            "Requirement already satisfied: setuptools>=18.5 in /usr/local/lib/python3.10/dist-packages (from ipython>=5.3.0->pyvis) (67.7.2)\n",
            "Requirement already satisfied: jedi>=0.16 in /usr/local/lib/python3.10/dist-packages (from ipython>=5.3.0->pyvis) (0.19.1)\n",
            "Requirement already satisfied: decorator in /usr/local/lib/python3.10/dist-packages (from ipython>=5.3.0->pyvis) (4.4.2)\n",
            "Requirement already satisfied: pickleshare in /usr/local/lib/python3.10/dist-packages (from ipython>=5.3.0->pyvis) (0.7.5)\n",
            "Requirement already satisfied: traitlets>=4.2 in /usr/local/lib/python3.10/dist-packages (from ipython>=5.3.0->pyvis) (5.7.1)\n",
            "Requirement already satisfied: prompt-toolkit!=3.0.0,!=3.0.1,<3.1.0,>=2.0.0 in /usr/local/lib/python3.10/dist-packages (from ipython>=5.3.0->pyvis) (3.0.47)\n",
            "Requirement already satisfied: pygments in /usr/local/lib/python3.10/dist-packages (from ipython>=5.3.0->pyvis) (2.16.1)\n",
            "Requirement already satisfied: backcall in /usr/local/lib/python3.10/dist-packages (from ipython>=5.3.0->pyvis) (0.2.0)\n",
            "Requirement already satisfied: matplotlib-inline in /usr/local/lib/python3.10/dist-packages (from ipython>=5.3.0->pyvis) (0.1.7)\n",
            "Requirement already satisfied: pexpect>4.3 in /usr/local/lib/python3.10/dist-packages (from ipython>=5.3.0->pyvis) (4.9.0)\n",
            "Requirement already satisfied: MarkupSafe>=2.0 in /usr/local/lib/python3.10/dist-packages (from jinja2>=2.9.6->pyvis) (2.1.5)\n",
            "Requirement already satisfied: langchain-text-splitters<0.3.0,>=0.2.0 in /usr/local/lib/python3.10/dist-packages (from langchain<0.3.0,>=0.2.5->langchain-community) (0.2.1)\n",
            "Requirement already satisfied: jsonpatch<2.0,>=1.33 in /usr/local/lib/python3.10/dist-packages (from langchain-core<0.3.0,>=0.2.7->langchain-community) (1.33)\n",
            "Requirement already satisfied: charset-normalizer<4,>=2 in /usr/local/lib/python3.10/dist-packages (from requests<3,>=2->langchain-community) (3.3.2)\n",
            "Requirement already satisfied: idna<4,>=2.5 in /usr/local/lib/python3.10/dist-packages (from requests<3,>=2->langchain-community) (3.7)\n",
            "Requirement already satisfied: urllib3<3,>=1.21.1 in /usr/local/lib/python3.10/dist-packages (from requests<3,>=2->langchain-community) (2.0.7)\n",
            "Requirement already satisfied: certifi>=2017.4.17 in /usr/local/lib/python3.10/dist-packages (from requests<3,>=2->langchain-community) (2024.6.2)\n",
            "Requirement already satisfied: greenlet!=0.4.17 in /usr/local/lib/python3.10/dist-packages (from SQLAlchemy<3,>=1.4->langchain-community) (3.0.3)\n",
            "Requirement already satisfied: pyproject_hooks in /usr/local/lib/python3.10/dist-packages (from build>=1.0.3->chromadb<0.6.0,>=0.4.0->langchain-chroma) (1.1.0)\n",
            "Requirement already satisfied: tomli>=1.1.0 in /usr/local/lib/python3.10/dist-packages (from build>=1.0.3->chromadb<0.6.0,>=0.4.0->langchain-chroma) (2.0.1)\n",
            "Requirement already satisfied: dnspython>=2.0.0 in /usr/local/lib/python3.10/dist-packages (from email_validator>=2.0.0->fastapi<1,>=0.95.2->langchain-chroma) (2.6.1)\n",
            "Requirement already satisfied: anyio in /usr/local/lib/python3.10/dist-packages (from httpx>=0.27.0->chromadb<0.6.0,>=0.4.0->langchain-chroma) (3.7.1)\n",
            "Requirement already satisfied: httpcore==1.* in /usr/local/lib/python3.10/dist-packages (from httpx>=0.27.0->chromadb<0.6.0,>=0.4.0->langchain-chroma) (1.0.5)\n",
            "Requirement already satisfied: sniffio in /usr/local/lib/python3.10/dist-packages (from httpx>=0.27.0->chromadb<0.6.0,>=0.4.0->langchain-chroma) (1.3.1)\n",
            "Requirement already satisfied: h11<0.15,>=0.13 in /usr/local/lib/python3.10/dist-packages (from httpcore==1.*->httpx>=0.27.0->chromadb<0.6.0,>=0.4.0->langchain-chroma) (0.14.0)\n",
            "Requirement already satisfied: parso<0.9.0,>=0.8.3 in /usr/local/lib/python3.10/dist-packages (from jedi>=0.16->ipython>=5.3.0->pyvis) (0.8.4)\n",
            "Requirement already satisfied: jsonpointer>=1.9 in /usr/local/lib/python3.10/dist-packages (from jsonpatch<2.0,>=1.33->langchain-core<0.3.0,>=0.2.7->langchain-community) (3.0.0)\n",
            "Requirement already satisfied: six>=1.9.0 in /usr/local/lib/python3.10/dist-packages (from kubernetes>=28.1.0->chromadb<0.6.0,>=0.4.0->langchain-chroma) (1.16.0)\n",
            "Requirement already satisfied: python-dateutil>=2.5.3 in /usr/local/lib/python3.10/dist-packages (from kubernetes>=28.1.0->chromadb<0.6.0,>=0.4.0->langchain-chroma) (2.8.2)\n",
            "Requirement already satisfied: google-auth>=1.0.1 in /usr/local/lib/python3.10/dist-packages (from kubernetes>=28.1.0->chromadb<0.6.0,>=0.4.0->langchain-chroma) (2.27.0)\n",
            "Requirement already satisfied: websocket-client!=0.40.0,!=0.41.*,!=0.42.*,>=0.32.0 in /usr/local/lib/python3.10/dist-packages (from kubernetes>=28.1.0->chromadb<0.6.0,>=0.4.0->langchain-chroma) (1.8.0)\n",
            "Requirement already satisfied: requests-oauthlib in /usr/local/lib/python3.10/dist-packages (from kubernetes>=28.1.0->chromadb<0.6.0,>=0.4.0->langchain-chroma) (1.3.1)\n",
            "Requirement already satisfied: oauthlib>=3.2.2 in /usr/local/lib/python3.10/dist-packages (from kubernetes>=28.1.0->chromadb<0.6.0,>=0.4.0->langchain-chroma) (3.2.2)\n",
            "Requirement already satisfied: coloredlogs in /usr/local/lib/python3.10/dist-packages (from onnxruntime>=1.14.1->chromadb<0.6.0,>=0.4.0->langchain-chroma) (15.0.1)\n",
            "Requirement already satisfied: flatbuffers in /usr/local/lib/python3.10/dist-packages (from onnxruntime>=1.14.1->chromadb<0.6.0,>=0.4.0->langchain-chroma) (24.3.25)\n",
            "Requirement already satisfied: protobuf in /usr/local/lib/python3.10/dist-packages (from onnxruntime>=1.14.1->chromadb<0.6.0,>=0.4.0->langchain-chroma) (3.20.3)\n",
            "Requirement already satisfied: sympy in /usr/local/lib/python3.10/dist-packages (from onnxruntime>=1.14.1->chromadb<0.6.0,>=0.4.0->langchain-chroma) (1.12.1)\n",
            "Requirement already satisfied: deprecated>=1.2.6 in /usr/local/lib/python3.10/dist-packages (from opentelemetry-api>=1.2.0->chromadb<0.6.0,>=0.4.0->langchain-chroma) (1.2.14)\n",
            "Requirement already satisfied: importlib-metadata<=7.1,>=6.0 in /usr/local/lib/python3.10/dist-packages (from opentelemetry-api>=1.2.0->chromadb<0.6.0,>=0.4.0->langchain-chroma) (7.1.0)\n",
            "Requirement already satisfied: googleapis-common-protos~=1.52 in /usr/local/lib/python3.10/dist-packages (from opentelemetry-exporter-otlp-proto-grpc>=1.2.0->chromadb<0.6.0,>=0.4.0->langchain-chroma) (1.63.1)\n",
            "Requirement already satisfied: opentelemetry-exporter-otlp-proto-common==1.25.0 in /usr/local/lib/python3.10/dist-packages (from opentelemetry-exporter-otlp-proto-grpc>=1.2.0->chromadb<0.6.0,>=0.4.0->langchain-chroma) (1.25.0)\n",
            "Requirement already satisfied: opentelemetry-proto==1.25.0 in /usr/local/lib/python3.10/dist-packages (from opentelemetry-exporter-otlp-proto-grpc>=1.2.0->chromadb<0.6.0,>=0.4.0->langchain-chroma) (1.25.0)\n",
            "Requirement already satisfied: opentelemetry-instrumentation-asgi==0.46b0 in /usr/local/lib/python3.10/dist-packages (from opentelemetry-instrumentation-fastapi>=0.41b0->chromadb<0.6.0,>=0.4.0->langchain-chroma) (0.46b0)\n",
            "Requirement already satisfied: opentelemetry-instrumentation==0.46b0 in /usr/local/lib/python3.10/dist-packages (from opentelemetry-instrumentation-fastapi>=0.41b0->chromadb<0.6.0,>=0.4.0->langchain-chroma) (0.46b0)\n",
            "Requirement already satisfied: opentelemetry-semantic-conventions==0.46b0 in /usr/local/lib/python3.10/dist-packages (from opentelemetry-instrumentation-fastapi>=0.41b0->chromadb<0.6.0,>=0.4.0->langchain-chroma) (0.46b0)\n",
            "Requirement already satisfied: opentelemetry-util-http==0.46b0 in /usr/local/lib/python3.10/dist-packages (from opentelemetry-instrumentation-fastapi>=0.41b0->chromadb<0.6.0,>=0.4.0->langchain-chroma) (0.46b0)\n",
            "Requirement already satisfied: wrapt<2.0.0,>=1.0.0 in /usr/local/lib/python3.10/dist-packages (from opentelemetry-instrumentation==0.46b0->opentelemetry-instrumentation-fastapi>=0.41b0->chromadb<0.6.0,>=0.4.0->langchain-chroma) (1.14.1)\n",
            "Requirement already satisfied: asgiref~=3.0 in /usr/local/lib/python3.10/dist-packages (from opentelemetry-instrumentation-asgi==0.46b0->opentelemetry-instrumentation-fastapi>=0.41b0->chromadb<0.6.0,>=0.4.0->langchain-chroma) (3.8.1)\n",
            "Requirement already satisfied: ptyprocess>=0.5 in /usr/local/lib/python3.10/dist-packages (from pexpect>4.3->ipython>=5.3.0->pyvis) (0.7.0)\n",
            "Requirement already satisfied: monotonic>=1.5 in /usr/local/lib/python3.10/dist-packages (from posthog>=2.4.0->chromadb<0.6.0,>=0.4.0->langchain-chroma) (1.6)\n",
            "Requirement already satisfied: backoff>=1.10.0 in /usr/local/lib/python3.10/dist-packages (from posthog>=2.4.0->chromadb<0.6.0,>=0.4.0->langchain-chroma) (2.2.1)\n",
            "Requirement already satisfied: wcwidth in /usr/local/lib/python3.10/dist-packages (from prompt-toolkit!=3.0.0,!=3.0.1,<3.1.0,>=2.0.0->ipython>=5.3.0->pyvis) (0.2.13)\n",
            "Requirement already satisfied: annotated-types>=0.4.0 in /usr/local/lib/python3.10/dist-packages (from pydantic>=1.9->chromadb<0.6.0,>=0.4.0->langchain-chroma) (0.7.0)\n",
            "Requirement already satisfied: pydantic-core==2.18.4 in /usr/local/lib/python3.10/dist-packages (from pydantic>=1.9->chromadb<0.6.0,>=0.4.0->langchain-chroma) (2.18.4)\n",
            "Requirement already satisfied: huggingface-hub<1.0,>=0.16.4 in /usr/local/lib/python3.10/dist-packages (from tokenizers>=0.13.2->chromadb<0.6.0,>=0.4.0->langchain-chroma) (0.23.4)\n",
            "Requirement already satisfied: click>=8.0.0 in /usr/local/lib/python3.10/dist-packages (from typer>=0.9.0->chromadb<0.6.0,>=0.4.0->langchain-chroma) (8.1.7)\n",
            "Requirement already satisfied: shellingham>=1.3.0 in /usr/local/lib/python3.10/dist-packages (from typer>=0.9.0->chromadb<0.6.0,>=0.4.0->langchain-chroma) (1.5.4)\n",
            "Requirement already satisfied: rich>=10.11.0 in /usr/local/lib/python3.10/dist-packages (from typer>=0.9.0->chromadb<0.6.0,>=0.4.0->langchain-chroma) (13.7.1)\n",
            "Requirement already satisfied: mypy-extensions>=0.3.0 in /usr/local/lib/python3.10/dist-packages (from typing-inspect<1,>=0.4.0->dataclasses-json<0.7,>=0.5.7->langchain-community) (1.0.0)\n",
            "Requirement already satisfied: httptools>=0.5.0 in /usr/local/lib/python3.10/dist-packages (from uvicorn[standard]>=0.18.3->chromadb<0.6.0,>=0.4.0->langchain-chroma) (0.6.1)\n",
            "Requirement already satisfied: python-dotenv>=0.13 in /usr/local/lib/python3.10/dist-packages (from uvicorn[standard]>=0.18.3->chromadb<0.6.0,>=0.4.0->langchain-chroma) (1.0.1)\n",
            "Requirement already satisfied: uvloop!=0.15.0,!=0.15.1,>=0.14.0 in /usr/local/lib/python3.10/dist-packages (from uvicorn[standard]>=0.18.3->chromadb<0.6.0,>=0.4.0->langchain-chroma) (0.19.0)\n",
            "Requirement already satisfied: watchfiles>=0.13 in /usr/local/lib/python3.10/dist-packages (from uvicorn[standard]>=0.18.3->chromadb<0.6.0,>=0.4.0->langchain-chroma) (0.22.0)\n",
            "Requirement already satisfied: websockets>=10.4 in /usr/local/lib/python3.10/dist-packages (from uvicorn[standard]>=0.18.3->chromadb<0.6.0,>=0.4.0->langchain-chroma) (12.0)\n",
            "Requirement already satisfied: exceptiongroup in /usr/local/lib/python3.10/dist-packages (from anyio->httpx>=0.27.0->chromadb<0.6.0,>=0.4.0->langchain-chroma) (1.2.1)\n",
            "Requirement already satisfied: cachetools<6.0,>=2.0.0 in /usr/local/lib/python3.10/dist-packages (from google-auth>=1.0.1->kubernetes>=28.1.0->chromadb<0.6.0,>=0.4.0->langchain-chroma) (5.3.3)\n",
            "Requirement already satisfied: pyasn1-modules>=0.2.1 in /usr/local/lib/python3.10/dist-packages (from google-auth>=1.0.1->kubernetes>=28.1.0->chromadb<0.6.0,>=0.4.0->langchain-chroma) (0.4.0)\n",
            "Requirement already satisfied: rsa<5,>=3.1.4 in /usr/local/lib/python3.10/dist-packages (from google-auth>=1.0.1->kubernetes>=28.1.0->chromadb<0.6.0,>=0.4.0->langchain-chroma) (4.9)\n",
            "Requirement already satisfied: filelock in /usr/local/lib/python3.10/dist-packages (from huggingface-hub<1.0,>=0.16.4->tokenizers>=0.13.2->chromadb<0.6.0,>=0.4.0->langchain-chroma) (3.15.1)\n",
            "Requirement already satisfied: fsspec>=2023.5.0 in /usr/local/lib/python3.10/dist-packages (from huggingface-hub<1.0,>=0.16.4->tokenizers>=0.13.2->chromadb<0.6.0,>=0.4.0->langchain-chroma) (2023.6.0)\n",
            "Requirement already satisfied: zipp>=0.5 in /usr/local/lib/python3.10/dist-packages (from importlib-metadata<=7.1,>=6.0->opentelemetry-api>=1.2.0->chromadb<0.6.0,>=0.4.0->langchain-chroma) (3.19.2)\n",
            "Requirement already satisfied: markdown-it-py>=2.2.0 in /usr/local/lib/python3.10/dist-packages (from rich>=10.11.0->typer>=0.9.0->chromadb<0.6.0,>=0.4.0->langchain-chroma) (3.0.0)\n",
            "Requirement already satisfied: humanfriendly>=9.1 in /usr/local/lib/python3.10/dist-packages (from coloredlogs->onnxruntime>=1.14.1->chromadb<0.6.0,>=0.4.0->langchain-chroma) (10.0)\n",
            "Requirement already satisfied: mpmath<1.4.0,>=1.1.0 in /usr/local/lib/python3.10/dist-packages (from sympy->onnxruntime>=1.14.1->chromadb<0.6.0,>=0.4.0->langchain-chroma) (1.3.0)\n",
            "Requirement already satisfied: mdurl~=0.1 in /usr/local/lib/python3.10/dist-packages (from markdown-it-py>=2.2.0->rich>=10.11.0->typer>=0.9.0->chromadb<0.6.0,>=0.4.0->langchain-chroma) (0.1.2)\n",
            "Requirement already satisfied: pyasn1<0.7.0,>=0.4.6 in /usr/local/lib/python3.10/dist-packages (from pyasn1-modules>=0.2.1->google-auth>=1.0.1->kubernetes>=28.1.0->chromadb<0.6.0,>=0.4.0->langchain-chroma) (0.6.0)\n"
          ]
        }
      ]
    },
    {
      "cell_type": "markdown",
      "source": [
        "### Installing OpenAI\n",
        "\n",
        "You will need to set up OpenAI at platform.openai.com, including:\n",
        "\n",
        "- Creating an account\n",
        "- Creating an API key\n",
        "- Setting up billing\n",
        "\n",
        "You can install the openai and langchain-openai Python packages using pip:\n"
      ],
      "metadata": {
        "id": "khdgYjpo7OKS"
      }
    },
    {
      "cell_type": "code",
      "source": [
        "# Install OpenAI SDK\n",
        "!pip install openai langchain-openai"
      ],
      "metadata": {
        "colab": {
          "base_uri": "https://localhost:8080/"
        },
        "id": "7bxsuB8F7JI_",
        "outputId": "08b08ae6-3d4b-4b26-8e15-b9b7bd435d66"
      },
      "execution_count": null,
      "outputs": [
        {
          "output_type": "stream",
          "name": "stdout",
          "text": [
            "Requirement already satisfied: openai in /usr/local/lib/python3.10/dist-packages (1.35.3)\n",
            "Requirement already satisfied: langchain-openai in /usr/local/lib/python3.10/dist-packages (0.1.9)\n",
            "Requirement already satisfied: anyio<5,>=3.5.0 in /usr/local/lib/python3.10/dist-packages (from openai) (3.7.1)\n",
            "Requirement already satisfied: distro<2,>=1.7.0 in /usr/lib/python3/dist-packages (from openai) (1.7.0)\n",
            "Requirement already satisfied: httpx<1,>=0.23.0 in /usr/local/lib/python3.10/dist-packages (from openai) (0.27.0)\n",
            "Requirement already satisfied: pydantic<3,>=1.9.0 in /usr/local/lib/python3.10/dist-packages (from openai) (2.7.4)\n",
            "Requirement already satisfied: sniffio in /usr/local/lib/python3.10/dist-packages (from openai) (1.3.1)\n",
            "Requirement already satisfied: tqdm>4 in /usr/local/lib/python3.10/dist-packages (from openai) (4.66.4)\n",
            "Requirement already satisfied: typing-extensions<5,>=4.7 in /usr/local/lib/python3.10/dist-packages (from openai) (4.12.2)\n",
            "Requirement already satisfied: langchain-core<0.3,>=0.2.2 in /usr/local/lib/python3.10/dist-packages (from langchain-openai) (0.2.9)\n",
            "Requirement already satisfied: tiktoken<1,>=0.7 in /usr/local/lib/python3.10/dist-packages (from langchain-openai) (0.7.0)\n",
            "Requirement already satisfied: idna>=2.8 in /usr/local/lib/python3.10/dist-packages (from anyio<5,>=3.5.0->openai) (3.7)\n",
            "Requirement already satisfied: exceptiongroup in /usr/local/lib/python3.10/dist-packages (from anyio<5,>=3.5.0->openai) (1.2.1)\n",
            "Requirement already satisfied: certifi in /usr/local/lib/python3.10/dist-packages (from httpx<1,>=0.23.0->openai) (2024.6.2)\n",
            "Requirement already satisfied: httpcore==1.* in /usr/local/lib/python3.10/dist-packages (from httpx<1,>=0.23.0->openai) (1.0.5)\n",
            "Requirement already satisfied: h11<0.15,>=0.13 in /usr/local/lib/python3.10/dist-packages (from httpcore==1.*->httpx<1,>=0.23.0->openai) (0.14.0)\n",
            "Requirement already satisfied: PyYAML>=5.3 in /usr/local/lib/python3.10/dist-packages (from langchain-core<0.3,>=0.2.2->langchain-openai) (6.0.1)\n",
            "Requirement already satisfied: jsonpatch<2.0,>=1.33 in /usr/local/lib/python3.10/dist-packages (from langchain-core<0.3,>=0.2.2->langchain-openai) (1.33)\n",
            "Requirement already satisfied: langsmith<0.2.0,>=0.1.75 in /usr/local/lib/python3.10/dist-packages (from langchain-core<0.3,>=0.2.2->langchain-openai) (0.1.81)\n",
            "Requirement already satisfied: packaging<25,>=23.2 in /usr/local/lib/python3.10/dist-packages (from langchain-core<0.3,>=0.2.2->langchain-openai) (24.1)\n",
            "Requirement already satisfied: tenacity!=8.4.0,<9.0.0,>=8.1.0 in /usr/local/lib/python3.10/dist-packages (from langchain-core<0.3,>=0.2.2->langchain-openai) (8.4.1)\n",
            "Requirement already satisfied: annotated-types>=0.4.0 in /usr/local/lib/python3.10/dist-packages (from pydantic<3,>=1.9.0->openai) (0.7.0)\n",
            "Requirement already satisfied: pydantic-core==2.18.4 in /usr/local/lib/python3.10/dist-packages (from pydantic<3,>=1.9.0->openai) (2.18.4)\n",
            "Requirement already satisfied: regex>=2022.1.18 in /usr/local/lib/python3.10/dist-packages (from tiktoken<1,>=0.7->langchain-openai) (2024.5.15)\n",
            "Requirement already satisfied: requests>=2.26.0 in /usr/local/lib/python3.10/dist-packages (from tiktoken<1,>=0.7->langchain-openai) (2.31.0)\n",
            "Requirement already satisfied: jsonpointer>=1.9 in /usr/local/lib/python3.10/dist-packages (from jsonpatch<2.0,>=1.33->langchain-core<0.3,>=0.2.2->langchain-openai) (3.0.0)\n",
            "Requirement already satisfied: orjson<4.0.0,>=3.9.14 in /usr/local/lib/python3.10/dist-packages (from langsmith<0.2.0,>=0.1.75->langchain-core<0.3,>=0.2.2->langchain-openai) (3.10.5)\n",
            "Requirement already satisfied: charset-normalizer<4,>=2 in /usr/local/lib/python3.10/dist-packages (from requests>=2.26.0->tiktoken<1,>=0.7->langchain-openai) (3.3.2)\n",
            "Requirement already satisfied: urllib3<3,>=1.21.1 in /usr/local/lib/python3.10/dist-packages (from requests>=2.26.0->tiktoken<1,>=0.7->langchain-openai) (2.0.7)\n"
          ]
        }
      ]
    },
    {
      "cell_type": "markdown",
      "source": [
        "## Hands On 1 : Create a Langchain application"
      ],
      "metadata": {
        "id": "ooFnjVpi7WSK"
      }
    },
    {
      "cell_type": "code",
      "source": [
        "# Import necessary modules\n",
        "from langchain_openai import OpenAI\n",
        "\n",
        "# Initialize the language model\n",
        "llm = OpenAI(openai_api_key=OPENAI_API_KEY)\n",
        "\n",
        "# Get a response from the LLM\n",
        "response = llm.invoke(\"Apa itu Neo4j?\")\n",
        "\n",
        "def neat_print(response):\n",
        "  print('-\\n'.join([response[i:i+100] for i in range(0, len(response), 100)]))\n",
        "\n",
        "neat_print(response)"
      ],
      "metadata": {
        "colab": {
          "base_uri": "https://localhost:8080/"
        },
        "id": "q57CpbWa7Wzw",
        "outputId": "c95ff9c7-0865-4dd5-c0ea-c0c72ef0d90a"
      },
      "execution_count": null,
      "outputs": [
        {
          "output_type": "stream",
          "name": "stdout",
          "text": [
            "\n",
            "\n",
            "Neo4j adalah sebuah sistem manajemen basis data grafik (graph database) yang menggunakan model dat-\n",
            "a berbasis grafik untuk menyimpan dan mengelola data. Neo4j dikembangkan oleh perusahaan Neo4j, Inc.-\n",
            " dan tersedia dalam dua versi yaitu versi open-source dan versi komersial. Basis data grafik adalah -\n",
            "tipe basis data yang menggunakan struktur grafik untuk merepresentasikan dan menyimpan data, yang te-\n",
            "rdiri dari simpul (node) yang terhubung oleh relasi (edge). Konsep ini memungkinkan Neo4j untuk meny-\n",
            "impan dan mengelola data yang kompleks dan terhubung dengan lebih efisien daripada sistem basis data-\n",
            " relasional tradisional. Neo4j banyak digunakan untuk aplikasi yang membutuhkan analisis jaringan, s-\n",
            "eperti media sosial, e-commerce, dan sistem rekomendasi. \n"
          ]
        }
      ]
    },
    {
      "cell_type": "markdown",
      "source": [
        "Review the program and note the following:\n",
        "\n",
        "- That OpenAI is used as the LLM\n",
        "- You can pass a question to the llm.invoke and get a response\n",
        "\n",
        "Running the program should produce a response from the LLM similar to:\n",
        "\n",
        "\"Neo4j adalah sebuah sistem manajemen basis data grafik (graph database) yang dirancang untuk menyi-\n",
        "mpan, mengelola, dan menganalisis data yang diorganisir dalam bentuk grafik. Grafik merupakan repres-\n",
        "entasi visual dari data yang terdiri dari simpul (node) yang terhubung oleh hubungan (edge). Neo4j m-\n",
        "enggunakan bahasa kueri yang disebut Cypher untuk melakukan manipulasi dan pengambilan data dari gra-\n",
        "fik yang disimpan. Neo4j dapat digunakan untuk berbagai aplikasi, seperti analisis jaringan sosial, -\n",
        "manajemen identitas, e-commerce, dan lain-lain.\"\n",
        "\n",
        "Try modifying the program to ask a different question."
      ],
      "metadata": {
        "id": "7OkoitrR9dau"
      }
    },
    {
      "cell_type": "markdown",
      "source": [
        "## Prompts\n",
        "\n",
        "Prompt templates allow you to create reusable instructions or questions. You can use them to create more complex or structured input for the LLM.\n",
        "\n",
        "Below is an example of a prompt template:"
      ],
      "metadata": {
        "id": "6c5UBzAz9il7"
      }
    },
    {
      "cell_type": "code",
      "source": [
        "# Define a prompt template\n",
        "template = \"\"\"\n",
        "Anda adalah seorang penjual buah dan sayuran di pasar.\n",
        "Peran Anda adalah membantu pelanggan dengan kebutuhan buah dan sayuran mereka.\n",
        "Jawab menggunakan bahasa pasar yang santai.\n",
        "\n",
        "Ceritakan tentang buah berikut: {buah}\n",
        "\"\"\"\n",
        "\n",
        "print(template)"
      ],
      "metadata": {
        "colab": {
          "base_uri": "https://localhost:8080/"
        },
        "id": "pUSOAGEC830s",
        "outputId": "8249da61-96c7-4f91-fc52-9b427110ac13"
      },
      "execution_count": null,
      "outputs": [
        {
          "output_type": "stream",
          "name": "stdout",
          "text": [
            "\n",
            "Anda adalah seorang penjual buah dan sayuran di pasar.\n",
            "Peran Anda adalah membantu pelanggan dengan kebutuhan buah dan sayuran mereka.\n",
            "Jawab menggunakan bahasa pasar yang santai.\n",
            "\n",
            "Ceritakan tentang buah berikut: {buah}\n",
            "\n"
          ]
        }
      ]
    },
    {
      "cell_type": "markdown",
      "source": [
        "This prompt template would give context to the LLM and instruct it to respond as a market fruit and vegetable seller.\n",
        "\n",
        "You can define parameters within the template using braces {} e.g. {buah}. These parameters will be replaced with values when the prompt is formatted.\n",
        "\n",
        "Modify your program to use the prompt template:"
      ],
      "metadata": {
        "id": "mF6A5W_5-FhB"
      }
    },
    {
      "cell_type": "code",
      "source": [
        "# Import necessary modules\n",
        "from langchain.prompts import PromptTemplate\n",
        "\n",
        "# Create a prompt template\n",
        "template = PromptTemplate(template=\"\"\"\n",
        "Anda adalah seorang penjual buah dan sayuran di pasar.\n",
        "Peran Anda adalah membantu pelanggan dengan kebutuhan buah dan sayuran mereka.\n",
        "Jawab menggunakan bahasa pasar yang santai.\n",
        "\n",
        "Ceritakan tentang buah berikut: {buah}\n",
        "\"\"\", input_variables=[\"buah\"])\n",
        "\n",
        "# Call the LLM, passing the formatted prompt template as the input\n",
        "response = llm.invoke(template.format(buah=\"apel\"))\n",
        "\n",
        "neat_print(response)"
      ],
      "metadata": {
        "colab": {
          "base_uri": "https://localhost:8080/"
        },
        "id": "kIGSnEZN-A2h",
        "outputId": "9533664f-3dcd-4efb-da16-993487a1040e"
      },
      "execution_count": null,
      "outputs": [
        {
          "output_type": "stream",
          "name": "stdout",
          "text": [
            "\n",
            "Hai hai hai pelanggan yang baik hati! Ini dia ada buah apel yang seger-seger dan manis-manis. Dijam-\n",
            "in bikin lidah kamu bergoyang-goyang! Apel ini baru datang dari kebun tetangga, langsung dipetik dan-\n",
            " dibawa ke pasar. Jadi masih super fresh dan siap dimakan langsung atau diolah jadi jus, pie, atau a-\n",
            "papun deh sesuai selera kamu. Mau yang merah merona atau yang hijau segar, semuanya ada di sini. Yuk-\n",
            ", buruan beli sebelum kehabisan. Dijual dengan harga yang terjangkau, tapi kualitasnya jempolan. Jan-\n",
            "gan lupa, apel ini juga kaya akan manfaat untuk kesehatan tubuh. Jadi, jangan ragu-ragu lagi, langsu-\n",
            "ng ambil dan bayar di sini ya! Terima kasih sudah belanja di toko saya.\n"
          ]
        }
      ]
    },
    {
      "cell_type": "markdown",
      "source": [
        "You use the format method to pass the parameters to the prompt e.g. buah=\"apel\". The input variables will be validated when the prompt is formatted, and a KeyError will be raised if any variables are missing from the input.\n",
        "\n",
        "The prompt will be formatted as follows:\n",
        "\n",
        "\"Anda adalah seorang penjual buah dan sayuran di pasar.\n",
        "Peran Anda adalah membantu pelanggan dengan kebutuhan buah dan sayuran mereka.\n",
        "Jawab menggunakan bahasa pasar yang santai.\n",
        "Ceritakan tentang buah berikut: apel\"\n",
        "\n",
        "When running the program, you should see a response similar to:\n",
        "\n",
        "\"Apel adalah buah yang enak dan segar, bisa dimakan langsung atau dijadikan jus. Ada berbagai jenis apel, seperti Granny Smith yang asam atau Fuji yang manis. Mari coba yang ini, pasti tidak menyesal!\""
      ],
      "metadata": {
        "id": "KrZbD9By-O8u"
      }
    },
    {
      "cell_type": "markdown",
      "source": [
        "## Hands On 2 : Vector DB & RAG"
      ],
      "metadata": {
        "id": "z5R2bQIpDs55"
      }
    },
    {
      "cell_type": "code",
      "source": [
        "majapahit = \"\"\"Majapahit (Javanese: ꦩꦗꦥꦲꦶꦠ꧀; Javanese pronunciation: [madʒapaɪt]), also known as Wilwatikta[note 3] (Javanese: ꦮꦶꦭ꧀ꦮꦠꦶꦏ꧀ꦠ; Javanese pronunciation: [wɪlwatɪkta]), was a Javanese Hindu-Buddhist thalassocratic empire in Southeast Asia that was based on the island of Java (in modern-day Indonesia).[3] It existed from 1293 to circa 1527 and reached its peak during the era of Hayam Wuruk, whose reign from 1350 to 1389 was marked by conquests that extended throughout Southeast Asia. His achievement is also credited to his prime minister, Gajah Mada. According to the Nagarakretagama (Desawarñana) written in 1365, Majapahit was an empire of 98 tributaries, stretching from Sumatra to New Guinea;[4]: 87 [5] consisting of present-day Indonesia, Singapore, Malaysia, Brunei, southern Thailand, Timor Leste, southwestern Philippines (in particular the Sulu Archipelago) although the scope of Majapahit sphere of influence is still the subject of debate among historians.[6][7] The nature of Majapahit's relations and influence upon its overseas vassals and also its status as an empire still provokes discussion.[8]\n",
        "\n",
        "Majapahit was one of the last major Hindu-Buddhist empires of the region and is considered to be one of the greatest and most powerful empires in the history of Indonesia and Southeast Asia. It is sometimes seen as the precedent for Indonesia's modern boundaries.[9]: 19 [10] Its influence extended beyond the modern territory of Indonesia and has been the subject of many studies.[11][12]\n",
        "\n",
        "Etymology\n",
        "\n",
        "A maja fruit growing near Trowulan. The bitter-tasting fruit is the origin of the kingdom's name.\n",
        "The name Majapahit derives from Javanese, meaning \"bitter maja\". German orientalist Berthold Laufer suggested that maja came from the Javanese name of Aegle marmelos, an Indonesian tree.[13] The name originally referred to the area in and around Trowulan, the cradle of Majapahit, which was linked to the establishment of a village in Tarik timberland by Raden Wijaya. It was said that the workers clearing the Tarik timberland encountered some bael trees and consumed its bitter-tasting fruit which then gave its name to the village.[1] It is a common practice in Java to name an area, a village or settlement with the most conspicuous or abundant tree or fruit species found in that region. In ancient Java, it is common to refer to the kingdom with its capital's name. Majapahit (sometimes also spelled Mojopait) is also known by other names: Wilwatikta (translation in Sanskrit), although sometimes the natives refer to their kingdom as Bhumi Jawa or Mandala Jawa instead.\n",
        "\n",
        "Historiography\n",
        "Little physical evidence of Majapahit remains,[14] and some details of the history are rather abstract.[9]: 18  Nevertheless, local Javanese people have not forgotten Majapahit completely, as Mojopait is mentioned vaguely in Babad Tanah Jawi, a Javanese chronicle composed in the 18th century. Majapahit did produce physical evidence: the main ruins dating from the Majapahit period are clustered in the Trowulan area, which was the royal capital of the kingdom. The Trowulan archaeological site was first documented in the 19th century by Sir Thomas Stamford Raffles, Lieutenant-Governor of British Java of the East India Company from 1811 to 1816. He reported the existence of \"ruins of temples... scattered about the country for many miles\", and referred to Trowulan as \"this pride of Java\".[15]\n",
        "\n",
        "\n",
        "Nagarakretagama palm-leaf manuscript. Composed by Mpu Prapanca in 1365, it provides a primary historical account of Majapahit court during the reign of King Hayam Wuruk.\n",
        "\n",
        "Wayang klithik puppet of Raden Damar Wulan―the hero of Majapahit kingdom\n",
        "By the early 20th century, Dutch colonial historians began to study old Javanese and Balinese literature to explore the past of their colony. Two primary sources were available to them: the Pararaton \"Book of Kings\" manuscript was written in the Kawi language after 1481, and Nagarakretagama (Desawarnaña) was composed in Kawi in 1365.[16] Pararaton focuses on Ken Arok, the founder of Singhasari, but includes a number of shorter narrative fragments about the formation of Majapahit. The Nagarakretagama is an old Javanese eulogy written during the Majapahit golden age under the reign of Hayam Wuruk, after which some events are covered narratively.[9]: 18  The Dutch acquired the manuscript in 1894 during their military expedition against the Cakranegara royal house of Lombok. There are also some inscriptions in Kawi and Chinese.\n",
        "\n",
        "The Javanese sources incorporate some poetic mythological elements and scholars such as Cornelis Christiaan Berg, a Dutch historian, have considered the entire historical record to be not a record of the past, but a supernatural means by which the future can be determined.[note 4][6] Most scholars do not accept this view, as the historical record corresponds in part with Chinese materials that could not have had similar intention. The references to rulers and details of the state structure show no sign of being invented.[9]: 18\n",
        "\n",
        "The Chinese historical sources on Majapahit mainly acquired from the chronicles of the Yuan and following Ming dynasty. The Chinese accounts on Majapahit are mainly owed to the Ming admiral Zheng He's reports during his visit to Majapahit between 1405 and 1432. Zheng He's translator Ma Huan wrote a detailed description of Majapahit and where the king of Java lived.[18] The report was composed and collected in Yingya Shenglan, which provides valuable insight on the culture, customs, and also various social and economic aspects of Chao-Wa (Java) during Majapahit period.[19]\n",
        "\n",
        "The Trowulan archaeological area has become the centre for the study of Majapahit history. The aerial and satellite imagery has revealed an extensive network of canals crisscrossing the Majapahit capital.[20] Recent archaeological findings from April 2011 indicate the Majapahit capital was much larger than previously believed after some artefacts were uncovered.[21]\n",
        "\n",
        "History\n",
        "Formation\n",
        "After defeating the Melayu Kingdom[22] in Sumatra in 1290, Singhasari became the most powerful kingdom in the region. Kublai Khan, the Khagan of the Mongol Empire and the Emperor of the Mongol-led Yuan dynasty of China, challenged Singhasari by sending emissaries demanding tribute. Kertanegara of Singhasari refused to pay the tribute, insulted Kublai's envoy, and challenged the Khan instead. In response, Kublai Khan sent a massive expedition of 1000 ships to Java in 1293.\n",
        "\n",
        "Mongol invasion\n",
        "Main article: Mongol invasion of Java\n",
        "\n",
        "Painting of a 14th-century Yuan junk. Similar ships were sent by the Yuan in their naval armada.\n",
        "By that time, Jayakatwang, the Adipati (Duke) of Kediri, a vassal state of Singhasari, had usurped and killed Kertanagara. After being pardoned by Jayakatwang with the aid of Madura's regent Arya Wiraraja, Kertanegara's son-in-law Raden Wijaya was given the land of Tarik timberland. He then opened the vast timberland and built a new settlement there. The village was named Majapahit, which was taken from the name of a fruit that had a bitter taste (maja is the fruit name and pahit means bitter). When the Yuan army sent by Kublai Khan arrived, Wijaya allied himself with the army to fight against Jayakatwang. Once Jayakatwang was destroyed, Raden Wijaya forced his allies to withdraw from Java by launching a surprise attack.[23] The Yuan army had to withdraw in confusion as they were in hostile territory, with their ships being attacked by Javanese navy. It was also their last chance to catch the monsoon winds home; otherwise, they would have had to wait for another six months.[24]\n",
        "\n",
        "The first king, Kertarajasa Jayawardhana\n",
        "\n",
        "King Kertarajasa portrayed as Harihara, amalgamation of Shiva and Vishnu. Originally located at Candi Simping, Blitar, today it is displayed in National Museum.\n",
        "In 1293, Raden Wijaya founded a stronghold with the capital Majapahit.[25]: 200–201  The exact date used as the birth of the Majapahit kingdom is the day of his coronation, the 15th of Kartika month in the year 1215 using the Javanese Shaka era, which equates to 10 November 1293.[1] During his coronation he was given the formal name Kertarajasa Jayawardhana. King Kertarajasa took all four daughters of Kertanegara as his wives, his first wife and prime queen consort Tribhuwaneswari, and her sisters: Prajnaparamita, Narendraduhita, and Gayatri Rajapatni the youngest. According to Pararaton, he also took a Sumatran Malay Dharmasraya princess named Dara Petak as his wife.[26][27]: 454\n",
        "\n",
        "The new kingdom faced challenges. Some of Kertarajasa's most trusted men, including Ranggalawe, Sora, and Nambi rebelled against him, though unsuccessfully. It was suspected that the Mahapati Halayudha set the conspiracy to overthrow all of his rivals in the court, led them to revolt against the king, while he gained king's favour and attained the highest position in the government. However, following the death of the last rebel Kuti, Halayudha's treachery was exposed, subsequently, he was captured, jailed for his stratagems and then sentenced to death.[23] Wijaya himself died in 1309.\n",
        "\n",
        "Jayanegara\n",
        "\n",
        "Golden image of a mounted rider, possibly the Hindu god Surya, within a stylised solar halo. Below is a conch flanked by two nagas. 14th-century Majapahit art, National Museum Jakarta.\n",
        "Kertarajasa Wijaya was succeeded by his heir Jayanegara. The reign of Jayanegara was a difficult and chaotic one, troubled with several rebellions by his father's former companions in arms. Among others are Gajah Biru's rebellion in 1314 and the Kuti rebellion in 1319. The Kuti rebellion was the most dangerous one, as Kuti managed to take control of the capital city. With the help of Gajah Mada and his Bhayangkara palace guard,[25]: 233  Jayanegara barely escaped from the capital and safely hid in Badander village. While the king was in hiding, Gajah Mada returned to the capital city to assess the situation. After learning that Kuti's rebellion was not supported by the people or nobles of Majapahit court, Gajah Mada raised resistance forces to crush the Kuti rebellion.\n",
        "\n",
        "After Kuti forces were defeated, Jayanegara was safely returned to his throne. For his loyalty and excellent service, Gajah Mada was promoted to high office to begin his career in royal court politics.[28]\n",
        "\n",
        "According to tradition, Wijaya's son and successor, Jayanegara, was notorious for his immorality. One of his distasteful acts was his desire to take his half-sisters, Gitarja and Rajadewi, as wives. Since Javanese tradition abhorred the practice of half-siblings marrying, the council of royal elders spoke strongly against the king's wishes. It was not clear what motivated Jayanegara's wish — it might have been his way to ensure his claim to the throne by preventing rivals from being his half-sisters' suitors, although in the later period of the Majapahit court the custom of marriage among cousins was quite common. In the Pararaton, he was known as Kala Gemet, or \"weak villain\". Around the time of Jayanegara's reign in the early 14th century, the Italian Friar Odoric of Pordenone visited the Majapahit court in Java. He mentioned Java to be well-populated and filled with cloves, nutmeg and many other spices. He also mentioned that the king of Java had seven vassals under him and engaged in several wars with the \"khan of Cathay\".[29]: 156\n",
        "\n",
        "In 1328, Jayanegara was murdered by his physician, Tanca, during a surgical operation. In complete mayhem and rage, Gajah Mada immediately killed Tanca. The motive behind this regicide was never clear. According to the Pararaton, it was Tanca's revenge for the king sexually abusing his wife. However, according to the Balinese manuscript Babad Dalem, the assassination was a stratagem crafted by Gajah Mada himself to rid the kingdom of an evil tyrant.[30] Tradition mentions that the immoral, cruel and abusive king often seduced and abused women, even the wives of his own subordinates.[31] Other possible reason includes to protect the two princesses — Gitarja and Rajadewi, the daughters of Gayatri Rajapatni from the king's cruelty.[30] Since the slain king was childless, he left no successor.\n",
        "\n",
        "Golden age\n",
        "Queen Tribhuwana Wijayatunggadewi\n",
        "\n",
        "The statue of Parvati as mortuary deified portrayal of Tribhuwanottunggadewi, queen of Majapahit, mother of Hayam Wuruk\n",
        "Jayanegara's stepmother, Gayatri Rajapatni — the most revered matriarch of the court — was supposed to take the helm. However, Rajapatni had retired from worldly affairs to become a Buddhist nun. Rajapatni appointed her daughter, Dyah Gitarja, or known in her formal regnal name as Tribhuwannottungadewi Jayawishnuwardhani, as the queen of Majapahit under Rajapatni's auspices. Tribhuwana appointed Gajah Mada as the prime minister in 1336. During his inauguration Gajah Mada declared his Palapa oath, revealing his plan to expand Majapahit realm and building an empire.[10]\n",
        "\n",
        "During Tribhuwana's rule, the Majapahit kingdom grew much larger and became famous in the area. Under the initiative of her able and ambitious prime minister, Gajah Mada, Majapahit sent its armada to conquer the neighbouring island of Bali.[25]: 234  According to the Babad Arya Tabanan manuscript, in 1342 Majapahit forces led by Gajah Mada, assisted by his general Arya Damar, the regent of Palembang, landed in Bali. After seven months of battles, Majapahit forces defeated the Balinese king and captured the Balinese capital of Bedulu in 1343. After the conquest of Bali, Majapahit distributed the governing authority of Bali among Arya Damar's younger brothers, Arya Kenceng, Arya Kutawandira, Arya Sentong, and Arya Belog. Arya Kenceng led his brothers to govern Bali under Majapahit suzerainty, and he would become the progenitor of the Balinese kings of the Tabanan and Badung royal houses. Through this campaign, Majapahit planted a vassal dynasty that would rule the Bali Kingdom in the following centuries. Tribhuwana ruled Majapahit until the death of her mother in 1350. She abdicated the throne in favour of her son, Hayam Wuruk.\n",
        "\n",
        "Ibn Battuta in his travels between 1332 and 1347 visited a place called \"Mul Jawa\" (island of Java or Majapahit Java, as opposed to \"al-Jawa\" which refers to Sumatra). The empire spanned 2 months of travel and ruled over the country of Qaqula and Qamara. He arrived at the walled city named Qaqula/Kakula, and observed that the city had war junks for pirate raiding and collecting tolls and that elephants were employed for various purposes. He met the ruler of Mul Jawa and stayed as a guest for three days.[32]: 96–97 [33]: 880–883  Ibn Battuta said that the women of Java ride horses, understand archery, and fight like men. Ibn Battuta recorded a story about a country called Tawalisi which oppose the king of China (Yuan dynasty) and waged war with him using numerous junks until he made a peace on certain conditions.[33]: 884–885 [34]: 3, 114–115\n",
        "\n",
        "Reign of Hayam Wuruk and Gajah Mada's conquest\n",
        "\n",
        "Rough estimations of Majapahit's conquest of the Indonesian archipelago (Nusantara) in the 13th century, its decline and its eventual fall in the early 16th century to Demak Sultanate. The existing historical records from several sources[note 5] only partially describe the years listed and thus are subject to revisions.\n",
        "Hayam Wuruk, also known as Rajasanagara, ruled Majapahit in 1350–1389. During this period, Majapahit attained its peak with the help of the prime minister Gajah Mada. Under Gajah Mada's command (1313–1364), Majapahit conquered more territories and became the regional power.[25]: 234  According to the Nagarakretagama, canto XIII and XIV mentioned several states in Sumatra, the Malay Peninsula, Borneo, Sulawesi, Nusa Tenggara islands, Maluku, New Guinea, Mindanao, Sulu Archipelago, Luzon and some parts of the Visayas islands as under the Majapahit realm of power. The Hikayat Raja Pasai, a 14th-century Aceh chronicle describe a Majapahit naval invasion on Samudra Pasai in 1350.[35] The attacking force consisted of 400 large jong and an uncountable number of malangbang and kelulus.[36] This expansion marked the greatest extent of Majapahit, making it one of the most influential empires in Indonesian history. It is considered a commercial trading empire in the civilisation of Asia.\n",
        "\n",
        "\n",
        "The terracotta figure popularly believed by Mohammad Yamin as the portrait of Gajah Mada, collection of Trowulan Museum. His claim, however, is not backed by historical background.\n",
        "In 1355,[37] Hayam Wuruk launched the third invasion of Dayak Ma'anyan kingdom of Nan Sarunai, which at the time was led by Raden Anyan or Datu Tatuyan Wulau Miharaja Papangkat Amas. This invasion was led by Ampu Jatmika from Kalingga, Kediri[38] with his entourage which according to Hikayat Banjar included his advisor Aria Megatsari, general Tumenggung Tatah Jiwa, minister Wiramartas, punokawan Patih Baras, Patih Basi, Patih Luhu, dan Patih Dulu, and bodyguards Sang Panimba Segara, Sang Pembelah Batung, Sang Jampang Sasak, and Sang Pengeruntung 'Garuntung' Manau. Multiple battles happened with the first battle in April 1358;[39] killed Majapahit soldiers were burned in Tambak Wasi. Nansarunai captain Jamuhala was also killed in this battle. While prince Jarang and prince Idong hid in Man near Tabalong-kiwa river. Nansarunai soldiers were concentrated in Pulau Kadap before the second battle happened in December 1362. Casualties from this second battle were buried in Tambak in Bayu Hinrang. In this war Raden Anyan was killed, speared by Mpu Nala, and buried in Banua Lawas.[40] In its place, Ampu Jatmika founded a Hindu kingdom state Negara Dipa under Majapahit tributary, predecessor of Banjar. While surviving Javanese, Dayak, Madurese, and Bugis soldiers, sailors, metalsmiths of this war settled in Amuntai, Alabio, and Nagara.[37][40] These invasions were recorded in Dayak Ma'anyan poetry as Nansarunai Usak Jawa.[41][42]\n",
        "\n",
        "Along with launching naval and military expeditions, the expansion of the Majapahit Empire involved diplomacy and alliance. Hayam Wuruk decided, probably for political reasons, to take princess Citra Rashmi (Dyah Pitaloka) of neighbouring Sunda Kingdom as his consort.[43]: 279  The Sundanese took this proposal as an alliance agreement. In 1357 the Sunda king and his royal family came to Majapahit to accompany and marry his daughter to Hayam Wuruk.[25]: 239  However, Gajah Mada saw this event as an opportunity to demand Sunda's submission to Majapahit overlordship. The skirmish between the Sunda royal family and the Majapahit troops on Bubat square was inevitable. Despite courageous resistance, the royal family were overwhelmed and decimated. Almost the whole of the Sundanese royal party was killed.[44] Tradition mentioned that the heartbroken princess committed suicide to defend the honour of her country.[45] The Battle of Bubat, or the Pasunda Bubat tragedy, became the main theme of Kidung Sunda, also mentioned in Carita Parahyangan and Pararaton, but it was never mentioned in Nagarakretagama.\n",
        "\n",
        "\n",
        "Gajah Mada inscription, dated 1273 Saka (1351 AD), mentioned about a sacred caitya building dedicated by Gajah Mada for the late King Kertanegara of Singhasari.\n",
        "The Nagarakretagama, written in 1365, depicts a sophisticated court with refined taste in art and literature and a complex system of religious rituals. The poet describes Majapahit as the centre of a huge mandala extending from New Guinea and Maluku to Sumatra and the Malay Peninsula. Local traditions in many parts of Indonesia retain accounts of 14th-century Majapahit's power in more or less legendary form. The direct administration of Majapahit did not extend beyond east Java and Bali, but challenges to Majapahit's claim to overlordship in outer islands drew forceful responses.[46]: 106\n",
        "\n",
        "To revive the fortune of Malayu in Sumatra, in the 1370s, a Malay ruler of Palembang sent an envoy to the court of the first emperor of the newly established Ming dynasty. He invited China to resume the tributary system, just like Srivijaya did several centuries earlier. Learning this diplomatic manoeuvre, immediately King Hayam Wuruk sent an envoy to Nanking, convinced the emperor that Malayu was their vassal, and was not an independent country.[7] Subsequently, in 1377,[note 6] a few years after the death of Gajah Mada, Majapahit sent a punitive naval attack against a rebellion in Palembang,[9]: 19  contributing to the end of the Srivijayan successor kingdom. Besides Gajah Mada, Another famous military leader was Adityawarman, known for his chronicle in Minangkabau.[48]\n",
        "\n",
        "\n",
        "Bronze cannon, called cetbang, Metropolitan Museum of Art, New York, from c. 1470–1478 Majapahit. Note the Surya Majapahit emblem on the bronze cannon.\n",
        "The nature of the Majapahit empire and its extent is subject to debate. It may have had limited or entirely notional influence over some of the tributary states, including Sumatra, the Malay Peninsula, Kalimantan, and eastern Indonesia, over which authority was claimed in the Nagarakretagama.[49] Geographical and economic constraints suggest that rather than a regular centralised authority, the outer states were most likely to have been connected mainly by trade connections, which were probably a royal monopoly.[9]: 19  It also claimed relationships with Champa, Cambodia, Siam, southern Burma, and Vietnam, and even sent missions to China.[9]: 19  Although the Majapahit rulers extended their power over other islands and destroyed neighbouring kingdoms, their focus seems to have been on controlling and gaining a larger share of the commercial trade that passed through the archipelago.\n",
        "\n",
        "About the time Majapahit was founded, Muslim traders and proselytisers began entering the area. The Troloyo/Tralaya tomb, a remnant of Islamic cemetery compound was discovered within the Trowulan area, the royal capital of Majapahit. Experts suggest that the cemetery was used between 1368 and 1611 AD, which means Muslim traders had resided in the capital as early as the mid-14th century during the reign of Hayam Wuruk.[50]: 185, 196  Two Muslim tombstones in Troloyo were dated from the 14th century (1368 AD, 1376 AD). The close proximity of the site with the kraton means there were Muslim people in close relation with the court.[51]: 6\n",
        "\n",
        "Decline\n",
        "Following Hayam Wuruk's death in 1389, Majapahit power entered a period of decline with conflict over succession.[25]: 241  Hayam Wuruk was succeeded by the crown princess Kusumawardhani, who married a relative, Prince Wikramawardhana. Hayam Wuruk also had a son from his previous marriage, the crown prince Wirabhumi, who also claimed the throne.\n",
        "\n",
        "By the time of Hayam Wuruk's death, Majapahit had lost its grip on its vassal states on the northern coasts of Sumatra and the Malay Peninsula, the latter which according to Chinese sources, would become a tributary state of the Ayutthaya Kingdom until the rise of Malacca Sultanate, supported by the Ming dynasty.[52]\n",
        "\n",
        "In the 14th century a Malay Kingdom of Singapura was established, and it promptly attracted a Majapahit navy that regarded it as Tumasik, a rebellious colony. Singapura was finally sacked by Majapahit in 1398,[53][54][55] after approximately 1 month long siege by 300 jong and 200,000 men.[56][57]: 69 [58][59] The last king, Sri Iskandar Shah, fled to the west coast of the Malay Peninsula to establish the Melaka Sultanate in 1400.\n",
        "\n",
        "Regreg War\n",
        "Main article: Regreg War\n",
        "A war of succession, called the Regreg War, is thought to have occurred from 1405 to 1406.[9]: 18  The war was fought as a contest of succession between the western court led by Wikramawardhana and the eastern court led by Bhre Wirabhumi. Wikramawardhana was victorious. Wirabhumi was caught and decapitated. However the civil war drained financial resources, exhausted the kingdom, and weakened Majapahit's grip on its outer vassals and colonies.[60]\n",
        "\n",
        "Wikramawardhana and Ming expedition\n",
        "Further information: Treasure voyages\n",
        "\n",
        "The route of the voyages of Zheng He's fleet, including Majapahit ports\n",
        "During the reign of Wikramawardhana, a series of Ming armada naval expeditions led by Zheng He,[25]: 241–242  a Muslim Chinese admiral, arrived in Java several times spanning the period from 1405 to 1433. These Chinese voyages visited numbers of ports in Asia as far as Africa, including Majapahit ports. It was said that Zheng He has paid a visit to the Majapahit court in Java.\n",
        "\n",
        "These massive Chinese voyages were not merely a naval exploration, but also a show of power and a display of geopolitical reach. The Chinese Ming dynasty had recently overthrown the Mongol-led Yuan dynasty, and was eager to establish their hegemony in the world, which changed the geopolitical balance in Asia.[61] The Chinese intervened in the politics of the southern seas by supporting Thais against the declining Khmer Empire, supporting and installing allied factions in India, Sri Lanka and other places in Indian Ocean coasts. However, perhaps the most significant Chinese intervention was its support for the newly established Sultanate of Malacca as a rival and counter-weight to the Majapahit influence of Java.[61]\n",
        "\n",
        "Previously, Majapahit had succeeded in asserting its influence in Malacca strait by containing the aspiration of Malay polities in Sumatra and the Malay Peninsula to ever reach the geopolitical might like those of Srivijaya. The Hindu Majapahit was the most powerful maritime power in Southeast Asian seas that time and were opposed to Chinese expansion into their sphere of influence. The Ming's support for Malacca and the spread of Islam propagated by both Malacca and Zheng He's treasure fleet has weakened Majapahit maritime influence in Sumatra, which caused the northern part of the island to increasingly converting to Islam and gained independence from Majapahit, leaving Indragiri, Jambi and Palembang, remnants of the old Srivijaya, the only suzerainty under Majapahit in Sumatra,[note 7] bordering Pagaruyung Kingdom on the west and independent Muslim kingdoms on the north.\n",
        "\n",
        "This Ming dynasty voyages are extremely important for Majapahit historiography, since Zheng He's translator Ma Huan wrote Yingya Shenglan, a detailed description of Majapahit,[18] which provides valuable insight on the culture, customs, and also various social and economic aspects of Java during Majapahit period.[19]\n",
        "\n",
        "The Chinese provided systematic support to Malacca, and its sultan made at least one trip to personally pay obeisance to the Ming emperor. Malacca actively encouraged the conversion to Islam in the region, while the Ming fleet actively established Chinese-Malay Muslim community in coastal northern Java, thus created a permanent opposition to the Hindus of Java. By 1430, the expeditions had established Muslim Chinese, Arab and Malay communities in northern ports of Java such as Semarang, Demak, Tuban, and Ampel; thus Islam began to gain a foothold on the northern coast of Java. Malacca prospered under Chinese Ming protection, while the Majapahit were steadily pushed back.[61]\n",
        "\n",
        "Queen Suhita\n",
        "\n",
        "The mortuary deified portrait statue of Queen Suhita (reign 1429–1447), discovered at Jebuk, Kalangbret, Tulungagung, East Java, National Museum of Indonesia\n",
        "Wikramawardhana ruled until 1429 and was succeeded by his daughter Suhita,[25]: 242  who ruled from 1429 to 1447. She was the second child of Wikramawardhana by a concubine who was the daughter of Wirabhumi. She was married to future Kelantan king Iskandar Shah or Kemas Jiwa in 1427. Both of them had a daughter together and he stayed with her in Java. Kelantan was ruled by his brother, Sultan Sadik Muhammad Shah, until his death in 1429. This necessitated Kemas Jiwa to return and took the throne as Iskandar, where he declared Kelantan as Majapahit II in Mahligai.[62][dubious – discuss] Although Pararaton listed her husband as Bhra Hyang Parameswara Ratnapangkaja, which suggests she remarried after Kemas Jiwa returned.[dubious – discuss]\n",
        "\n",
        "The reign of Suhita was the second time Majapahit was reigned by a queen regnant after her great-grandmother Tribhuwana Wijayatunggadewi. Her reign is immortalized in Javanese legend of Damarwulan, as it involves a maiden queen named Prabu Kenya in the story, and during Suhita's reign there was a war with Blambangan as stated in the legend.[63]\n",
        "\n",
        "In 1447, Suhita died and was succeeded by Kertawijaya, her brother.[25]: 242  He ruled until 1451. After Kertawijaya died, Bhre Pamotan became a king with formal name Rajasawardhana. He died in 1453. A three-year kingless period was possibly the result of a succession crisis. Girisawardhana, son of Kertawijaya, came to power in 1456. He died in 1466 and was succeeded by Singhawikramawardhana.\n",
        "\n",
        "The divide\n",
        "In 1468 Prince Kertabhumi rebelled against Singhawikramawardhana, promoting himself as the king of Majapahit. Deposed Singhawikramawardhana retreated upstream of Brantas River, moved the kingdom's capital further inland to Daha (the former capital of Kediri kingdom), effectively splitting Majapahit, under Bhre Kertabumi in Trowulan and Singhawikramawardhana in Daha. Singhawikramawardhana continued his rule until he was succeeded by his son Girindrawardhana (Ranawijaya) in 1474.\n",
        "\n",
        "And in between this period of the dividing court of Majapahit, the kingdom found itself unable to control its western part of the already crumbling empire. The rising power of the Sultanate of Malacca began to gain effective control of the Malacca Strait in the mid-15th century and expanding its influence to Sumatra. And amidst these events, Indragiri and Siantan, according to Malay Annals were given to Malacca as a dowry for the marriage of a Majapahit princess and the sultan of Malacca,[64] further weakening Majapahit's influence on the western part of the archipelago. Kertabhumi managed to stabilize this situation by allying with Muslim merchants, giving them trading rights on the north coast of Java, with Demak as its centre and in return asked for their loyalty to Majapahit. This policy boosted the Majapahit treasury and power but weakened Hindu-Buddhism as its main religion because Islamic proselytizing spread faster, especially in Javanese coastal principalities. Hindu-Buddhist followers' grievances later paved the way for Ranawijaya to defeat Kertabumi.\n",
        "\n",
        "Dates for the end of the Majapahit Empire range from 1478, traditionally described in sinengkalan or chandrasengkala (chronogram) Sirna ilang kertaning bhumi that is correspond to 1400 Saka, to 1527.[note 8][65]: 36  The year 1478 was the year of Sudarma Wisuta war, when Ranawijaya's army under general Udara (who later became vice-regent) breached Trowulan defences and killed Kertabumi in his palace,[66][67] but not the actual fall of Majapahit itself as a whole.\n",
        "\n",
        "Demak sent reinforcements under Sunan Ngudung, who later died in battle and was replaced by Sunan Kudus, but they came too late to save Kertabumi although they managed to repel the Ranawijaya army. This event is mentioned in Trailokyapuri (Jiyu) and Petak inscription, where Ranawijaya claimed that he already defeated Kertabhumi and reunited Majapahit as one Kingdom.[68] Ranawijaya ruled from 1474 to 1498 with the formal name Girindrawardhana, with Udara as his vice-regent. This event led to the war between the Sultanate of Demak and Daha since Demak rulers were descendants of Kertabhumi.[dubious – discuss]\n",
        "\n",
        "During this period, Demak, being the dominant ruler of the Javanese coastal lands and Java as a whole, seized the region of Jambi and Palembang in Sumatra from Majapahit.[69]: 154–155\n",
        "\n",
        "Demak invasion and the fall of Majapahit\n",
        "\n",
        "Demak was the earliest Islamic polity in Java that replaced Majapahit.\n",
        "In 1498, there was a turning point when Girindrawardhana was deposed by his vice-regent, Udara. After this coup, the war between Demak and Majapahit receded, since Raden Patah, Sultan of Demak, left Majapahit alone like his father had done before, some source said Udara agreed to become a vassal of Demak, even marrying Raden Patah's youngest daughter.\n",
        "\n",
        "Meanwhile, in the west, Malacca was captured by Portuguese in 1511. The delicate balance between Demak and Majapahit ended when Udara, seeing an opportunity to eliminate Demak, asked for Portuguese help in Malacca, forcing Demak to attack both Malacca and Majapahit under Adipati Yunus to end this alliance.[note 9]\n",
        "\n",
        "With the fall of Majapahit, crushed by Demak in 1527,[65]: 54–55  the Muslim emerging forces finally defeated the remnants of the Majapahit kingdom in the early 16th century;[72] and with the fall of Majapahit, a large number of courtiers, artisans, priests, and members of the royalty moved east to the island of Bali. The refugees fled to the east to avoid Demak retribution for their support for Ranawijaya against Kertabhumi.\n",
        "\n",
        "Demak came under the leadership of Raden (later crowned as Sultan) Patah, who was acknowledged as the legitimate successor of Majapahit. According to Babad Tanah Jawi and Demak tradition, the source of Patah's legitimacy was because their first sultan, Raden Patah, was the son of Majapahit king Brawijaya V with a Chinese concubine. Another argument supports Demak as the successor of Majapahit; the rising Demak sultanate was easily accepted as the nominal regional ruler, as Demak was the former Majapahit vassal and located near the former Majapahit realm in eastern Java.\n",
        "\n",
        "Demak established itself as the regional power and the first Islamic sultanate in Java. After the fall of Majapahit, the Hindu kingdoms in Java only remained in Pasuruan, Panarukan, and Blambangan[73]: 7  on the eastern edge and Sunda Kingdom Pajajaran in the western part. Gradually Hindu communities began to retreat to the mountain ranges in East Java and also to the neighbouring island of Bali. A small enclave of Hindu communities remain in the Tengger mountain range.\n",
        "\n",
        "Culture\n",
        "The capital Trowulan, was grand and known for its great annual festivities. The main event of the administrative calendar took place on the first day of the month of Caitra (March–April) when representatives from all territories paying tax or tribute to Majapahit came to the capital to pay court. Majapahit's territories were roughly divided into three types: the palace and its vicinity; the areas of east Java and Bali which were directly administered by officials appointed by the king; and the outer dependencies which enjoyed substantial internal autonomy.[46]: 107 [74]\n",
        "\n",
        "Wringin Lawang, the 15.5-meter tall red brick split gate in Trowulan, believed to be the entrance of an important compound.\n",
        "Wringin Lawang, the 15.5-meter tall red brick split gate in Trowulan, believed to be the entrance of an important compound.\n",
        "\n",
        "The king of Java and his 7 vassal kings, as imagined in a 15th-century English manuscript containing the accounts of Friar Odoric.\n",
        "The king of Java and his 7 vassal kings, as imagined in a 15th-century English manuscript containing the accounts of Friar Odoric.\n",
        "\n",
        "Relief from Trowulan: Countryside, walled kampung, ramparts, and temple.\n",
        "Relief from Trowulan: Countryside, walled kampung, ramparts, and temple.\n",
        "\n",
        "A relief from Trowulan, showing several walled compounds and a larger wall to their north.\n",
        "A relief from Trowulan, showing several walled compounds and a larger wall to their north.\n",
        "The first European record about Majapahit came from the travel log of the Italian Mattiussi, a Franciscan friar. In his book Travels of Friar Odoric of Pordenone, he visited several places in today's Indonesia: Sumatra, Java, and Banjarmasin in Borneo, between 1318 and 1330. He was sent by the Pope to launch a mission into the Asian interiors. In 1318 he departed from Padua, crossed the Black Sea into Persia, all the way across Calcutta, Madras, and Sri Lanka. He then headed to Nicobar island to Sumatra, before visiting Java and Banjarmasin. He returned to Italy by land through Vietnam, China, all the way through the silkroad to Europe in 1330.\n",
        "\n",
        "\n",
        "An armored horse rider, two armored warriors, and a noble figure. From Penataran temple, ca. 1347.\n",
        "In his book, he mentioned that he visited Java without explaining the exact place he had visited. He said that king of Java ruled over seven other kings (vassals).[note 10] He described the richness of this island, and recorded that the Mongol emperors had repeatedly tried to attack Java, but always ended up in failure and managed to be sent back to the mainland.[note 11] His full account is as follows:[75]: 87–89\n",
        "\n",
        "In the neighbourhood of that realm (Sumatra) is a great island, Java by name, which hath a compass of a good three thousand miles. And the king of it hath subject to himself seven crowned kings. Now this island is populous exceedingly, and is the second best of all islands that exist. For in it grow camphor, cubebs, cardamoms, nutmegs, and many other precious spices. It hath also very great store of all victuals save wine.\n",
        "\n",
        "The king of this island hath a palace which is truly marvellous. For it is very great, and hath very great staircases, broad and lofty, and the steps thereof are of gold and silver alternately. Likewise the pavement of the palace hath one tile of gold and the other of silver, and the wall of the same is on the inside plated all over with plates of gold, on which are sculptured knights all of gold, which have great golden circles round their heads, such as we give in these parts to the figures of saints. And these circles are all beset with precious stones. Moreover, the ceiling is all of pure gold, and to speak briefly, this palace is richer and finer than any existing at this day in the world.\n",
        "\n",
        "Now the Great Khan of Cathay many a time engaged in war with this king; but this king always vanquished and got the better of him. And many other things there be which I write not.\n",
        "\n",
        "The Javanese kingdom mentioned in this record is Majapahit, and the time of his visit was in 1321 during the reign of Jayanegara (1309–1328).[75]: 87 [73]: 459 [76]: 322\n",
        "\n",
        "In Yingya Shenglan—a record about Zheng He's expedition (1405–1433)—Ma Huan describes the culture, customs, various social and economic aspects of Chao-Wa (Java) during Majapahit period.[19] Ma Huan visited Java during Zheng He's 4th expedition in 1413, during the reign of Majapahit king Wikramawardhana. He describes his travel to Majapahit capital, first, he arrived at the port of Tu-pan (Tuban) where he saw large numbers of Chinese settlers migrated from Guangdong and Chou Chang. Then he sailed east to thriving new trading town of Ko-erh-hsi (Gresik), Su-pa-erh-ya (Surabaya), and then sailing inland into the river by smaller boat to the southwest until reached the river port of Chang-ku (Changgu).[19] Continued travel by land to the southwest he arrived in Man-che-po-I (Majapahit), where the king stay. There are about 200 or 300 foreign families resides in this place, with seven or eight leaders to serve the king. The climate is constantly hot, like summer.[18] He describes the king's costumes; wearing a crown of gold leaves and flowers or sometimes without any headgear; bare-chested without wearing a robe, the bottom parts wears two sashes of embroidered silk. Additional silk rope is looped around the waist as a belt, and the belt is inserted with one or two short blades, called pu-la-t'ou (belati or more precisely kris dagger), walking barefoot. When travelling outside, the king rides an elephant or an ox-drawn carriage.[18]\n",
        "\n",
        "The graceful Bidadari Majapahit, golden celestial apsara in Majapahit style.\n",
        "The graceful Bidadari Majapahit, golden celestial apsara in Majapahit style.\n",
        "\n",
        "A silver-alloyed gold mask from East Java, Indonesia, 14th century.\n",
        "A silver-alloyed gold mask from East Java, Indonesia, 14th century.\n",
        "\n",
        "A statue of bronze elephant with riders, made in the 13th–14th century East Java (Singhasari and Majapahit era).\n",
        "A statue of bronze elephant with riders, made in the 13th–14th century East Java (Singhasari and Majapahit era).\n",
        "\n",
        "Gold Kāla rattle, 11th–14th century, from Malang, East Java.\n",
        "Gold Kāla rattle, 11th–14th century, from Malang, East Java.\n",
        "Commoners' clothing for men is without headgear and women arrange their hair like a bun secured with a hairpin. They wore clothing on the upper body and wrapped unstitched fabrics around the bottom part,[note 12] Men from a boy aged three to elders slipped pu-la-t'ou (dagger) in their belt. The dagger, made entirely of steel with intricate motifs smoothly drawn. The handles are made of gold, rhino's horn or ivory carved with a depiction of human or demon, the carving works are exquisite and skilfully made.[18][19]\n",
        "\n",
        "Majapahit people, men and women, favoured their head.[note 13] If someone was touched on his head, or if there is a misunderstanding or argument when drunk, they will instantly draw their knives and stab each other.[18]\n",
        "\n",
        "The population of the country did not have a bed or chair to sit and to eat they do not use a spoon or chopsticks. Men and women enjoy chewing betel nut mixed with, betel leaves, and white chalk made from ground mussels shells.[19] They eat rice for the meal, first, they took a scoop of water and soak betel in their mouth, then wash their hands and sit down to make a circle; getting a plate of rice soaked in butter (probably coconut milk) and gravy, and eat using hands to lift the rice and put it in their mouth. When receiving guests, they will offer the guests, not the tea, but with betel nut.[18]\n",
        "\n",
        "The population consisted of Muslim merchants from the west (Arab and Muslim Indians, but mostly those from Muslim states in Sumatra), Chinese (claimed to be descendants of Tang dynasty), and unrefined locals. The king held annual jousting tournaments.[18]: 45  About the marriage rituals; the groom pays a visit to the house of the bride's family, the marriage union is consummated. Three days later, the groom escorts his bride back to his home, where the man's family beat drums and brass gongs, blowing pipes made from coconut shells (senterewe), beating a drum made from bamboo tubes (probably a kind of bamboo gamelan or kolintang), and light fireworks.[19] Escorted in front, behind, and around by men holding short blades and shields. While the bride is a matted-hair woman, with an uncovered body and barefooted. She wraps herself in embroidered silk, wears a necklace around her neck adorned with gold beads, and bracelets on her wrist with ornaments of gold, silver and other precious ornaments. Family, friends and neighbours decorate a decorative boat with betel leaf, areca nut, reeds and flowers are sewn, and arrange a party to welcome the couple on such a festive occasion. When the groom arrives home, the gong and drum are sounded, they will drink wine (possibly arrack or tuak) and play music. After a few days, the festivities end.[18]\n",
        "\n",
        "About the burial rituals, the dead body was left on the beach or empty land to be devoured by dogs (for lower-class), cremated, or committed into the waters (Javanese: Larung). The upper-class performed suttee, a suicide ritual by widowed wives, concubines or female servants, through self immolation by throwing themselves into flaming cremation fire.[18][19]\n",
        "\n",
        "In this record, Ma Huan also describes a musical troupe travelling during full moon nights. Numbers of people holding shoulders creating an unbroken line while singing and chanting in unison, while the families whose houses being visited would give them copper coins or gifts. He also describes a class of artisans that draws various images on paper and give a theatrical performance. The narrator tells the story of legends, tales and romance drawn upon a screen of rolled paper.[18] This kind of performance is identified as wayang bébér, an art of story-telling that has survived for many centuries in Java.[19]\n",
        "\n",
        "Portuguese diplomat Tomé Pires, who visited the archipelago in 1512, recorded the culture of Java in the late Majapahit era, after his visit to the island between March and June 1513.[69]: xxv  Pires' account tells about the lords and nobles in Java. They are described as:\n",
        "\n",
        "...tall and handsome, lavishly adorned, and they have richly caparisoned horses. They use krises, swords, and lances of many kinds, all inlaid with gold. They are great hunters and horsemen—the horse had stirrups all inlaid with gold and inlaid saddles, which are not to be found anywhere else in the world. The Javanese lords are so noble and exalted that there is no nation to compare with them over a wide area in these parts. They have their head shorn—half tonsured—as a mark of beauty, and they always run their hands over their hair from the forehead upwards unlike what European did. The lords of Java are revered like gods, with great respect and deep reverence.\n",
        "\n",
        "The lords go out hunting or pleasure-seeking in such exalted style. They spend all their time in pleasures, the retinues had so many lances in holders of gold and silver, so richly inlaid, with so many harriers, greyhounds and other dogs; and they have so many pictures painted with images and hunting scenes. Their clothes are adorned with gold, their krises, swords, knives, cutlasses are all inlaid with gold; they have numbers of concubines, jennets, elephants, oxen to draw the wagons of gilt and painted woodwork. The nobilities go out in triumphal cars, and if they go by sea they go in painted and ornamented kelulus; there are beautiful apartments for their women, other places for the nobles who accompanied him.[69]: 174–175, 200\n",
        "\n",
        "Religion\n",
        "Part of a series on\n",
        "Hinduism in Indonesia\n",
        "\n",
        "History of Hinduism in Indonesia\n",
        "Hindu temples in Indonesia\n",
        "Hindu kingdoms in Indonesia\n",
        "List of Indonesian Hindus\n",
        " Hinduism portal • flag Indonesia portal\n",
        "vte\n",
        "\n",
        "Jawi Temple, a syncretic Hindu-Buddhist temple of Shiva-Buddha cult, dated from late 13th century Singhasari kingdom, which later renovated and preserved during the Majapahit period\n",
        "Buddhism, Shaivism, and Vaishnavism were all practised: the king was regarded as the incarnation of the three. The Nagarakretagama however, does not mention Islam, but there were certainly Muslim courtiers by this time.[9]: 19\n",
        "\n",
        "Hinduism and Buddhism already shaped the Javanese civilisation, religion, and spiritualism since the earlier era, from the 9th century Mataram Kingdom, Kahuripan, Kadiri, to Singhasari kingdom. It seems that both Hinduism and Buddhism are widely practised by Majapahit subjects. Nevertheless, native Javanese shamanism possibly still exist and practised in peripheral rural regions.\n",
        "\n",
        "\n",
        "Gold figure from the Majapahit period representing Sutasoma being borne by the man-eater Kalmasapada\n",
        "The monarch and most of the royal family adhered to Hinduism, with certain emphasis on the cult of their own preferred main deity, either Shiva, Vishnu, Durga or other deities. The first king of Majapahit, Kertarajasa Jayawardhana was posthumously portrayed as Harihara, the god combination of Shiva and Vishnu, in his mortuary temple in Candi Simping. Mahayana Buddhism however, was also favoured by the royal family and officials of Majapahit. For example, the queen of Majapahit Gayatri Rajapatni and Gajah Mada are known as Buddhists.[77] Gayatri later posthumously portrayed as Prajnaparamita.\n",
        "\n",
        "The state religion however, was possibly the Siwa Buddha, the Javanese syncretism of Shaivism and Buddhism, which emphasise the similarity between Shiva and Buddha which both described as ascetics and spiritual teacher. The spiritual circumstances of Majapahit, seems to promote the harmony between the adherents of Shiva and Buddha. As demonstrated in the manuscript Sutasoma written in the 14th century by Mpu Tantular which promotes the religious tolerance between the Hinduism and Buddhism, specifically promote the syncretic Shiva-Buddha doctrine.[78]\n",
        "\n",
        "During the Majapahit period, religious teaching played an important role in the society. The religious education could be done individually within households of kshatriya nobles and brahmana religious elites, or in a centre for religious teaching which resembles ashram or boarding school called Mandala or Kadewaguruan. A Kadewaguruan was usually located in remote areas far from habitation places, such as quiet forest, on hills or mountainous region. A Kadewaguruan is led by a mahāresi or high priest, who is also known as śiddharesi or dewaguru; hence the education centre is called Kadewaguruan.[79]\n",
        "\"\"\"\n",
        "\n",
        "from google.colab import files\n",
        "\n",
        "long_string = majapahit\n",
        "\n",
        "# Saving the string to a text file\n",
        "with open('majapahit.txt', 'w') as file:\n",
        "    file.write(long_string)\n",
        "\n",
        "# Downloading the file\n",
        "files.download('majapahit.txt')\n"
      ],
      "metadata": {
        "colab": {
          "base_uri": "https://localhost:8080/"
        },
        "id": "Xc5lUiRtic_w",
        "outputId": "b0350b76-b61d-46f1-b6fb-2df87db06858"
      },
      "execution_count": null,
      "outputs": [
        {
          "output_type": "display_data",
          "data": {
            "text/plain": [
              "<IPython.core.display.Javascript object>"
            ],
            "application/javascript": [
              "\n",
              "    async function download(id, filename, size) {\n",
              "      if (!google.colab.kernel.accessAllowed) {\n",
              "        return;\n",
              "      }\n",
              "      const div = document.createElement('div');\n",
              "      const label = document.createElement('label');\n",
              "      label.textContent = `Downloading \"${filename}\": `;\n",
              "      div.appendChild(label);\n",
              "      const progress = document.createElement('progress');\n",
              "      progress.max = size;\n",
              "      div.appendChild(progress);\n",
              "      document.body.appendChild(div);\n",
              "\n",
              "      const buffers = [];\n",
              "      let downloaded = 0;\n",
              "\n",
              "      const channel = await google.colab.kernel.comms.open(id);\n",
              "      // Send a message to notify the kernel that we're ready.\n",
              "      channel.send({})\n",
              "\n",
              "      for await (const message of channel.messages) {\n",
              "        // Send a message to notify the kernel that we're ready.\n",
              "        channel.send({})\n",
              "        if (message.buffers) {\n",
              "          for (const buffer of message.buffers) {\n",
              "            buffers.push(buffer);\n",
              "            downloaded += buffer.byteLength;\n",
              "            progress.value = downloaded;\n",
              "          }\n",
              "        }\n",
              "      }\n",
              "      const blob = new Blob(buffers, {type: 'application/binary'});\n",
              "      const a = document.createElement('a');\n",
              "      a.href = window.URL.createObjectURL(blob);\n",
              "      a.download = filename;\n",
              "      div.appendChild(a);\n",
              "      a.click();\n",
              "      div.remove();\n",
              "    }\n",
              "  "
            ]
          },
          "metadata": {}
        },
        {
          "output_type": "display_data",
          "data": {
            "text/plain": [
              "<IPython.core.display.Javascript object>"
            ],
            "application/javascript": [
              "download(\"download_2a845f81-764d-43c5-801f-d2ab4bb24084\", \"majapahit.txt\", 48489)"
            ]
          },
          "metadata": {}
        }
      ]
    },
    {
      "cell_type": "markdown",
      "source": [
        "## Vector DB as Knowledge Repository"
      ],
      "metadata": {
        "id": "vVxJ0j2f-dVc"
      }
    },
    {
      "cell_type": "code",
      "source": [
        "import os\n",
        "from langchain_openai import ChatOpenAI\n",
        "from langchain_community.document_loaders.text import TextLoader\n",
        "from langchain import hub\n",
        "from langchain_core.prompts import ChatPromptTemplate\n",
        "from langchain_community.document_loaders import WebBaseLoader\n",
        "from langchain_chroma import Chroma\n",
        "from langchain_core.output_parsers import StrOutputParser\n",
        "from langchain_core.runnables import RunnableParallel, RunnablePassthrough\n",
        "from langchain_openai import OpenAIEmbeddings\n",
        "from langchain_text_splitters import RecursiveCharacterTextSplitter\n",
        "\n",
        "os.environ[\"OPENAI_API_KEY\"] = OPENAI_API_KEY\n",
        "\n",
        "model = ChatOpenAI(model=\"gpt-3.5-turbo\")\n",
        "\n",
        "# Load, chunk and index the contents of the blog.\n",
        "loader = TextLoader(\"majapahit.txt\")\n",
        "docs = loader.load()\n",
        "\n",
        "text_splitter = RecursiveCharacterTextSplitter(chunk_size=1000, chunk_overlap=200)\n",
        "splits = text_splitter.split_documents(docs)\n",
        "vectorstore = Chroma.from_documents(documents=splits, embedding=OpenAIEmbeddings())"
      ],
      "metadata": {
        "id": "87T6MPu-KAAB"
      },
      "execution_count": null,
      "outputs": []
    },
    {
      "cell_type": "markdown",
      "source": [
        "### Retrieve and generate using the relevant snippets of the blog."
      ],
      "metadata": {
        "id": "tKAnCjHBA-v6"
      }
    },
    {
      "cell_type": "code",
      "source": [
        "retriever = vectorstore.as_retriever()\n",
        "\n",
        "template = \"\"\"Answer the question based only on the following context:\n",
        "{context}\n",
        "\n",
        "Question: {question}\n",
        "\"\"\"\n",
        "\n",
        "prompt = ChatPromptTemplate.from_template(template)\n",
        "output_parser = StrOutputParser()\n",
        "\n",
        "setup_and_retrieval = RunnableParallel(\n",
        "    {\"context\": retriever, \"question\": RunnablePassthrough()}\n",
        ")\n",
        "chain = setup_and_retrieval | prompt | model | output_parser\n",
        "\n",
        "chain.invoke(\"Siapa yang menjadi raja majapahit?\")"
      ],
      "metadata": {
        "colab": {
          "base_uri": "https://localhost:8080/",
          "height": 36
        },
        "id": "O6I1f9ZwA7is",
        "outputId": "6cdc5bc5-7492-40d3-ad6e-89b181f5ff86"
      },
      "execution_count": null,
      "outputs": [
        {
          "output_type": "execute_result",
          "data": {
            "text/plain": [
              "'Hayam Wuruk, juga dikenal sebagai Rajasanagara, menjadi raja Majapahit.'"
            ],
            "application/vnd.google.colaboratory.intrinsic+json": {
              "type": "string"
            }
          },
          "metadata": {},
          "execution_count": 37
        }
      ]
    },
    {
      "cell_type": "markdown",
      "source": [
        "## GraphDB & Neo4J Introduction\n"
      ],
      "metadata": {
        "id": "jcoTbzFeIglG"
      }
    },
    {
      "cell_type": "code",
      "source": [
        "from neo4j import GraphDatabase\n",
        "from pyvis.network import Network\n",
        "# Connect to your Neo4j instance\n",
        "uri = \"neo4j://ec2-43-218-133-4.ap-southeast-3.compute.amazonaws.com:7687\"\n",
        "driver = GraphDatabase.driver(uri, auth=(\"neo4j\", \"telkomselthrive\"))\n",
        "\n",
        "# # SHOWS 2ND DEGREE FROM ALL PERSON\n",
        "# MATCH (p:Person)-[r1]-(n)-[r2]-(secondDegree)\n",
        "# RETURN DISTINCT p, n, r1, r2, secondDegree"
      ],
      "metadata": {
        "id": "5vP80R-9IopN"
      },
      "execution_count": null,
      "outputs": []
    },
    {
      "cell_type": "markdown",
      "source": [
        "## Appendix: Neo4J LLM Generator"
      ],
      "metadata": {
        "id": "DwQ37Cuacfyd"
      }
    },
    {
      "cell_type": "code",
      "source": [
        "import os\n",
        "\n",
        "from langchain_community.graphs import Neo4jGraph\n",
        "\n",
        "os.environ[\"NEO4J_URI\"] = \"neo4j+s://a919bff9.databases.neo4j.io:7687\"\n",
        "os.environ[\"NEO4J_USERNAME\"] = \"neo4j\"\n",
        "os.environ[\"NEO4J_PASSWORD\"] = \"telkomselthrive\"\n",
        "\n",
        "graph = Neo4jGraph(enhanced_schema=True)\n"
      ],
      "metadata": {
        "id": "FgBMG67EclhC",
        "colab": {
          "base_uri": "https://localhost:8080/"
        },
        "outputId": "95bb2c84-46fa-4130-a0b7-8444b2f3c428"
      },
      "execution_count": null,
      "outputs": [
        {
          "output_type": "stream",
          "name": "stderr",
          "text": [
            "WARNING:neo4j.notifications:Received notification from DBMS server: {severity: WARNING} {code: Neo.ClientNotification.Statement.FeatureDeprecationWarning} {category: DEPRECATION} {title: This feature is deprecated and will be removed in future versions.} {description: The procedure has a deprecated field. ('config' used by 'apoc.meta.graphSample' is deprecated.)} {position: line: 1, column: 1, offset: 0} for query: \"CALL apoc.meta.graphSample() YIELD nodes, relationships RETURN nodes, [rel in relationships | {name:apoc.any.property(rel, 'type'), count: apoc.any.property(rel, 'count')}] AS relationships\"\n"
          ]
        }
      ]
    },
    {
      "cell_type": "markdown",
      "source": [
        "### Alternatif 1, Otomatis"
      ],
      "metadata": {
        "id": "xm0YOTEKiOwH"
      }
    },
    {
      "cell_type": "code",
      "source": [
        "from langchain_core.documents import Document\n",
        "from langchain_experimental.graph_transformers import LLMGraphTransformer\n",
        "from langchain_openai import ChatOpenAI\n",
        "\n",
        "llm = ChatOpenAI(temperature=0, model_name=\"gpt-4-turbo\")\n",
        "\n",
        "llm_transformer = LLMGraphTransformer(llm=llm)\n",
        "\n",
        "# Load, chunk and index the contents of the blog.\n",
        "loader = TextLoader(\"majapahit.txt\")\n",
        "docs = loader.load()\n",
        "\n",
        "graph_documents = llm_transformer.convert_to_graph_documents(docs)\n",
        "print(f\"Nodes:{graph_documents[0].nodes}\")\n",
        "print(f\"Relationships:{graph_documents[0].relationships}\")"
      ],
      "metadata": {
        "id": "1oRflRRqiAo6"
      },
      "execution_count": null,
      "outputs": []
    },
    {
      "cell_type": "markdown",
      "source": [
        "### Alternatif 2, Manual"
      ],
      "metadata": {
        "id": "8Qe_SggPiMUO"
      }
    },
    {
      "cell_type": "code",
      "source": [
        "from langchain_core.documents import Document\n",
        "from langchain_experimental.graph_transformers import LLMGraphTransformer\n",
        "from langchain_openai import ChatOpenAI\n",
        "llm = ChatOpenAI(temperature=0, model_name=\"gpt-4-turbo\")\n",
        "\n",
        "# Load, chunk and index the contents of the blog.\n",
        "loader = TextLoader(\"majapahit.txt\")\n",
        "\n",
        "# prompt = PromptTemplate.from_template(\"You are an expert on information mining from indonesian historical kingdom stories. Extract as much knowledge in the form of nodes and relationships as possible.\")\n",
        "\n",
        "llm_transformer_filtered = LLMGraphTransformer(\n",
        "    llm=llm,\n",
        "    # prompt=prompt,\n",
        "    allowed_nodes=[\"Person\", \"Empire\", \"Location\", \"Organization\"],\n",
        "    allowed_relationships=[\"Succeeds\",\"Kills\", \"Son of\", \"Marries\", \"Works For\", \"Rules Over\"],\n",
        "    node_properties=[\"Name\", \"Date of Birth\", \"Additional Information\"],\n",
        "    relationship_properties=[\"Date\", \"Additional Information\"],\n",
        "    strict_mode=True\n",
        ")\n",
        "graph_documents = llm_transformer_filtered.convert_to_graph_documents(\n",
        "    docs\n",
        ")\n",
        "print(f\"Nodes:{graph_documents[0].nodes}\")\n",
        "print(f\"Relationships:{graph_documents[0].relationships}\")"
      ],
      "metadata": {
        "colab": {
          "base_uri": "https://localhost:8080/"
        },
        "id": "BOKWXQvFiDQl",
        "outputId": "0d28c9a1-3a0d-4b69-e2b5-498090490619"
      },
      "execution_count": null,
      "outputs": [
        {
          "output_type": "stream",
          "name": "stdout",
          "text": [
            "Nodes:[]\n",
            "Relationships:[]\n"
          ]
        }
      ]
    },
    {
      "cell_type": "code",
      "source": [
        "# graph.add_graph_documents(graph_documents)"
      ],
      "metadata": {
        "id": "liHIM5MoiZAW"
      },
      "execution_count": null,
      "outputs": []
    },
    {
      "cell_type": "markdown",
      "source": [
        "## GraphDB as Knowledge Repository"
      ],
      "metadata": {
        "id": "5fnKOAzykdqf"
      }
    },
    {
      "cell_type": "code",
      "source": [
        "graph.refresh_schema()\n",
        "print(graph.schema)"
      ],
      "metadata": {
        "colab": {
          "base_uri": "https://localhost:8080/"
        },
        "id": "X_bQOJTbktPB",
        "outputId": "96f91358-707e-43a5-80b8-db1327856b9e"
      },
      "execution_count": null,
      "outputs": [
        {
          "output_type": "stream",
          "name": "stdout",
          "text": [
            "Node properties:\n",
            "Person {id: STRING, additionalInformation: STRING}\n",
            "Organization {id: STRING, name: STRING, additionalInformation: STRING}\n",
            "Location {id: STRING, name: STRING, additionalInformation: STRING}\n",
            "Empire {id: STRING, name: STRING, additionalInformation: STRING}\n",
            "Relationship properties:\n",
            "MARRIES {additionalInformation: STRING}\n",
            "RULES_OVER {additionalInformation: STRING}\n",
            "WORKS_FOR {additionalInformation: STRING}\n",
            "The relationships:\n",
            "(:Person)-[:RULES_OVER]->(:Empire)\n",
            "(:Person)-[:WORKS_FOR]->(:Person)\n",
            "(:Person)-[:WORKS_FOR]->(:Empire)\n",
            "(:Person)-[:MARRIES]->(:Person)\n",
            "(:Empire)-[:RULES_OVER]->(:Location)\n"
          ]
        }
      ]
    },
    {
      "cell_type": "code",
      "source": [
        "retriever = vectorstore.as_retriever()\n",
        "\n",
        "template = \"\"\"Answer the question based only on the following context:\n",
        "{context}\n",
        "\n",
        "Question: {question}\n",
        "\"\"\"\n",
        "\n",
        "prompt = ChatPromptTemplate.from_template(template)\n",
        "output_parser = StrOutputParser()\n",
        "\n",
        "setup_and_retrieval = RunnableParallel(\n",
        "    {\"context\": retriever, \"question\": RunnablePassthrough()}\n",
        ")\n",
        "chain = setup_and_retrieval | prompt | model | output_parser\n",
        "\n",
        "chain.invoke(\"Who rules majapahit Kingdom?\")"
      ],
      "metadata": {
        "colab": {
          "base_uri": "https://localhost:8080/",
          "height": 36
        },
        "id": "EaRP8ygS2hck",
        "outputId": "628b2ff7-ba5e-4bcf-a342-1e8b0dde2ca4"
      },
      "execution_count": null,
      "outputs": [
        {
          "output_type": "execute_result",
          "data": {
            "text/plain": [
              "'Hayam Wuruk ruled the Majapahit Kingdom.'"
            ],
            "application/vnd.google.colaboratory.intrinsic+json": {
              "type": "string"
            }
          },
          "metadata": {},
          "execution_count": 12
        }
      ]
    },
    {
      "cell_type": "code",
      "source": [
        "from langchain.chains import GraphCypherQAChain\n",
        "from langchain_openai import ChatOpenAI\n",
        "\n",
        "llm = ChatOpenAI(model=\"gpt-3.5-turbo\", temperature=0)\n",
        "chain = GraphCypherQAChain.from_llm(\n",
        "    graph=graph,\n",
        "    llm=llm,\n",
        "    verbose=True,\n",
        "    validate_cypher=True,\n",
        "    return_intermediate_steps=True,\n",
        "    use_function_response=True)\n",
        "response = chain.invoke({\"query\": \"Samudera pasai berkuasa atas lokasi apa saja\"})\n",
        "response"
      ],
      "metadata": {
        "colab": {
          "base_uri": "https://localhost:8080/"
        },
        "id": "x1M9pcJwhQyz",
        "outputId": "43d9e5ff-dd94-44f9-820d-4ec695f743b6"
      },
      "execution_count": null,
      "outputs": [
        {
          "output_type": "stream",
          "name": "stdout",
          "text": [
            "\n",
            "\n",
            "\u001b[1m> Entering new GraphCypherQAChain chain...\u001b[0m\n",
            "Generated Cypher:\n",
            "\u001b[32;1m\u001b[1;3mMATCH (e:Empire {name: \"Samudera Pasai\"})-[:RULES_OVER]->(l:Location)\n",
            "RETURN l.name\u001b[0m\n",
            "Full Context:\n",
            "\u001b[32;1m\u001b[1;3m[]\u001b[0m\n",
            "\n",
            "\u001b[1m> Finished chain.\u001b[0m\n"
          ]
        },
        {
          "output_type": "execute_result",
          "data": {
            "text/plain": [
              "{'query': 'Samudera pasai berkuasa atas lokasi apa saja',\n",
              " 'result': 'Maaf, sepertinya saya tidak dapat menemukan informasi spesifik mengenai lokasi yang dikuasai oleh Samudera Pasai.',\n",
              " 'intermediate_steps': [{'query': 'MATCH (e:Empire {name: \"Samudera Pasai\"})-[:RULES_OVER]->(l:Location)\\nRETURN l.name'},\n",
              "  {'context': []}]}"
            ]
          },
          "metadata": {},
          "execution_count": 40
        }
      ]
    },
    {
      "cell_type": "code",
      "source": [
        "response['result']"
      ],
      "metadata": {
        "colab": {
          "base_uri": "https://localhost:8080/",
          "height": 36
        },
        "id": "yEJZSxoqh5n0",
        "outputId": "4fd36a51-69e0-40f3-92cd-5ff89352bc2e"
      },
      "execution_count": null,
      "outputs": [
        {
          "output_type": "execute_result",
          "data": {
            "text/plain": [
              "'Maaf, sepertinya saya tidak dapat menemukan informasi spesifik mengenai lokasi yang dikuasai oleh Samudera Pasai.'"
            ],
            "application/vnd.google.colaboratory.intrinsic+json": {
              "type": "string"
            }
          },
          "metadata": {},
          "execution_count": 41
        }
      ]
    }
  ]
}